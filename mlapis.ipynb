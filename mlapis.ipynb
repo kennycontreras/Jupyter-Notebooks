{
 "cells": [
  {
   "cell_type": "markdown",
   "metadata": {},
   "source": [
    "<h1> Using Machine Learning APIs </h1>\n",
    "\n",
    "First, visit <a href=\"http://console.cloud.google.com/apis\">API console</a>, choose \"Credentials\" on the left-hand menu.  Choose \"Create Credentials\" and generate an API key for your application. You should probably restrict it by IP address to prevent abuse, but for now, just  leave that field blank and delete the API key after trying out this demo.\n",
    "\n",
    "Copy-paste your API Key here:"
   ]
  },
  {
   "cell_type": "markdown",
   "metadata": {},
   "source": [
    "<b> Note: Make sure you generate an API Key and replace the value above. The sample key will not work.</b>\n",
    "\n",
    "From the same API console, choose \"Dashboard\" on the left-hand menu and \"Enable API\".\n",
    "\n",
    "Enable the following APIs for your project (search for them) if they are not already enabled:\n",
    "<ol>\n",
    "<li> Google Translate API </li>\n",
    "<li> Google Cloud Vision API </li>\n",
    "<li> Google Natural Language API </li>\n",
    "<li> Google Cloud Speech API </li>\n",
    "</ol>\n",
    "\n",
    "Finally, because we are calling the APIs from Python (clients in many other languages are available), let's install the Python package (it's not installed by default on Datalab)"
   ]
  },
  {
   "cell_type": "code",
   "execution_count": 2,
   "metadata": {},
   "outputs": [
    {
     "name": "stdout",
     "output_type": "stream",
     "text": [
      "Collecting google-api-python-client\n",
      "\u001b[?25l  Downloading https://files.pythonhosted.org/packages/55/e9/e8fb2e3a031cb69b9524b80a92b126665d9a17421700a219555e3233ab6a/google_api_python_client-1.7.8-py3-none-any.whl (56kB)\n",
      "\u001b[K    100% |████████████████████████████████| 61kB 2.8MB/s ta 0:00:011\n",
      "\u001b[?25hRequirement already satisfied, skipping upgrade: httplib2<1dev,>=0.9.2 in /usr/local/envs/py3env/lib/python3.5/site-packages (from google-api-python-client) (0.10.3)\n",
      "Requirement already satisfied, skipping upgrade: google-auth>=1.4.1 in /usr/local/envs/py3env/lib/python3.5/site-packages (from google-api-python-client) (1.6.2)\n",
      "Requirement already satisfied, skipping upgrade: six<2dev,>=1.6.1 in /usr/local/envs/py3env/lib/python3.5/site-packages (from google-api-python-client) (1.10.0)\n",
      "Requirement already satisfied, skipping upgrade: google-auth-httplib2>=0.0.3 in /usr/local/envs/py3env/lib/python3.5/site-packages (from google-api-python-client) (0.0.3)\n",
      "Requirement already satisfied, skipping upgrade: uritemplate<4dev,>=3.0.0 in /usr/local/envs/py3env/lib/python3.5/site-packages (from google-api-python-client) (3.0.0)\n",
      "Requirement already satisfied, skipping upgrade: pyasn1-modules>=0.2.1 in /usr/local/envs/py3env/lib/python3.5/site-packages (from google-auth>=1.4.1->google-api-python-client) (0.2.2)\n",
      "Requirement already satisfied, skipping upgrade: rsa>=3.1.4 in /usr/local/envs/py3env/lib/python3.5/site-packages (from google-auth>=1.4.1->google-api-python-client) (3.4.2)\n",
      "Requirement already satisfied, skipping upgrade: cachetools>=2.0.0 in /usr/local/envs/py3env/lib/python3.5/site-packages (from google-auth>=1.4.1->google-api-python-client) (2.1.0)\n",
      "Requirement already satisfied, skipping upgrade: pyasn1<0.5.0,>=0.4.1 in /usr/local/envs/py3env/lib/python3.5/site-packages (from pyasn1-modules>=0.2.1->google-auth>=1.4.1->google-api-python-client) (0.4.4)\n",
      "Installing collected packages: google-api-python-client\n",
      "  Found existing installation: google-api-python-client 1.6.2\n",
      "    Uninstalling google-api-python-client-1.6.2:\n",
      "      Successfully uninstalled google-api-python-client-1.6.2\n",
      "Successfully installed google-api-python-client-1.7.8\n"
     ]
    }
   ],
   "source": [
    "!pip install --upgrade google-api-python-client"
   ]
  },
  {
   "cell_type": "markdown",
   "metadata": {},
   "source": [
    "<h2> Invoke Translate API </h2>"
   ]
  },
  {
   "cell_type": "code",
   "execution_count": 3,
   "metadata": {},
   "outputs": [
    {
     "name": "stdout",
     "output_type": "stream",
     "text": [
      "is it really this easy? -> est-ce vraiment si facile?\n",
      "amazing technology -> technologie incroyable\n",
      "wow -> sensationnel\n"
     ]
    }
   ],
   "source": [
    "# running Translate API\n",
    "from googleapiclient.discovery import build\n",
    "service = build('translate', 'v2', developerKey=APIKEY)\n",
    "\n",
    "# use the service\n",
    "inputs = ['is it really this easy?', 'amazing technology', 'wow']\n",
    "outputs = service.translations().list(source='en', target='fr', q=inputs).execute()\n",
    "# print outputs\n",
    "for input, output in zip(inputs, outputs['translations']):\n",
    "  print(\"{0} -> {1}\".format(input, output['translatedText']))"
   ]
  },
  {
   "cell_type": "markdown",
   "metadata": {},
   "source": [
    "<h2> Invoke Vision API </h2>\n",
    "\n",
    "The Vision API can work off an image in Cloud Storage or embedded directly into a POST message. I'll use Cloud Storage and do OCR on this image: <img src=\"https://storage.googleapis.com/cloud-training-demos/vision/sign2.jpg\" width=\"200\" />.  That photograph is from http://www.publicdomainpictures.net/view-image.php?image=15842\n"
   ]
  },
  {
   "cell_type": "code",
   "execution_count": 5,
   "metadata": {},
   "outputs": [
    {
     "name": "stdout",
     "output_type": "stream",
     "text": [
      "{'responses': [{'textAnnotations': [{'locale': 'zh', 'boundingPoly': {'vertices': [{'x': 152, 'y': 104}, {'x': 1082, 'y': 104}, {'x': 1082, 'y': 658}, {'x': 152, 'y': 658}]}, 'description': '请您爱护和保\\n护卫生创建优\\n美水环境\\n'}, {'boundingPoly': {'vertices': [{'x': 179, 'y': 104}, {'x': 321, 'y': 104}, {'x': 321, 'y': 243}, {'x': 179, 'y': 243}]}, 'description': '请'}, {'boundingPoly': {'vertices': [{'x': 329, 'y': 108}, {'x': 471, 'y': 108}, {'x': 471, 'y': 243}, {'x': 329, 'y': 243}]}, 'description': '您'}, {'boundingPoly': {'vertices': [{'x': 479, 'y': 108}, {'x': 775, 'y': 108}, {'x': 775, 'y': 243}, {'x': 479, 'y': 243}]}, 'description': '爱护'}, {'boundingPoly': {'vertices': [{'x': 786, 'y': 111}, {'x': 925, 'y': 111}, {'x': 925, 'y': 243}, {'x': 786, 'y': 243}]}, 'description': '和'}, {'boundingPoly': {'vertices': [{'x': 933, 'y': 104}, {'x': 1079, 'y': 104}, {'x': 1079, 'y': 239}, {'x': 933, 'y': 239}]}, 'description': '保'}, {'boundingPoly': {'vertices': [{'x': 165, 'y': 300}, {'x': 312, 'y': 300}, {'x': 312, 'y': 440}, {'x': 165, 'y': 440}]}, 'description': '护'}, {'boundingPoly': {'vertices': [{'x': 316, 'y': 304}, {'x': 619, 'y': 304}, {'x': 619, 'y': 440}, {'x': 316, 'y': 440}]}, 'description': '卫生'}, {'boundingPoly': {'vertices': [{'x': 631, 'y': 304}, {'x': 930, 'y': 304}, {'x': 930, 'y': 444}, {'x': 631, 'y': 444}]}, 'description': '创建'}, {'boundingPoly': {'vertices': [{'x': 938, 'y': 300}, {'x': 1082, 'y': 300}, {'x': 1082, 'y': 440}, {'x': 938, 'y': 440}]}, 'description': '优'}, {'boundingPoly': {'vertices': [{'x': 158, 'y': 503}, {'x': 304, 'y': 509}, {'x': 297, 'y': 655}, {'x': 152, 'y': 649}]}, 'description': '美'}, {'boundingPoly': {'vertices': [{'x': 313, 'y': 501}, {'x': 464, 'y': 508}, {'x': 457, 'y': 653}, {'x': 307, 'y': 647}]}, 'description': '水'}, {'boundingPoly': {'vertices': [{'x': 466, 'y': 499}, {'x': 772, 'y': 512}, {'x': 765, 'y': 658}, {'x': 460, 'y': 645}]}, 'description': '环境'}], 'fullTextAnnotation': {'pages': [{'property': {'detectedLanguages': [{'languageCode': 'zh-Hans'}]}, 'width': 1280, 'height': 818, 'blocks': [{'blockType': 'TEXT', 'property': {'detectedLanguages': [{'languageCode': 'zh-Hans'}]}, 'boundingBox': {'vertices': [{'x': 160, 'y': 90}, {'x': 1087, 'y': 104}, {'x': 1078, 'y': 681}, {'x': 151, 'y': 667}]}, 'paragraphs': [{'property': {'detectedLanguages': [{'languageCode': 'zh-Hans'}]}, 'words': [{'property': {'detectedLanguages': [{'languageCode': 'zh-Hans'}]}, 'boundingBox': {'vertices': [{'x': 179, 'y': 104}, {'x': 321, 'y': 104}, {'x': 321, 'y': 243}, {'x': 179, 'y': 243}]}, 'symbols': [{'property': {'detectedLanguages': [{'languageCode': 'zh-Hans'}]}, 'text': '请', 'boundingBox': {'vertices': [{'x': 179, 'y': 104}, {'x': 321, 'y': 104}, {'x': 321, 'y': 243}, {'x': 179, 'y': 243}]}}]}, {'property': {'detectedLanguages': [{'languageCode': 'zh-Hans'}]}, 'boundingBox': {'vertices': [{'x': 329, 'y': 108}, {'x': 471, 'y': 108}, {'x': 471, 'y': 243}, {'x': 329, 'y': 243}]}, 'symbols': [{'property': {'detectedLanguages': [{'languageCode': 'zh-Hans'}]}, 'text': '您', 'boundingBox': {'vertices': [{'x': 329, 'y': 108}, {'x': 471, 'y': 108}, {'x': 471, 'y': 243}, {'x': 329, 'y': 243}]}}]}, {'property': {'detectedLanguages': [{'languageCode': 'zh-Hans'}]}, 'boundingBox': {'vertices': [{'x': 479, 'y': 108}, {'x': 775, 'y': 108}, {'x': 775, 'y': 243}, {'x': 479, 'y': 243}]}, 'symbols': [{'property': {'detectedLanguages': [{'languageCode': 'zh-Hans'}]}, 'text': '爱', 'boundingBox': {'vertices': [{'x': 479, 'y': 108}, {'x': 621, 'y': 108}, {'x': 621, 'y': 243}, {'x': 479, 'y': 243}]}}, {'property': {'detectedLanguages': [{'languageCode': 'zh-Hans'}]}, 'text': '护', 'boundingBox': {'vertices': [{'x': 633, 'y': 108}, {'x': 775, 'y': 108}, {'x': 775, 'y': 243}, {'x': 633, 'y': 243}]}}]}, {'property': {'detectedLanguages': [{'languageCode': 'zh-Hans'}]}, 'boundingBox': {'vertices': [{'x': 786, 'y': 111}, {'x': 925, 'y': 111}, {'x': 925, 'y': 243}, {'x': 786, 'y': 243}]}, 'symbols': [{'property': {'detectedLanguages': [{'languageCode': 'zh-Hans'}]}, 'text': '和', 'boundingBox': {'vertices': [{'x': 786, 'y': 111}, {'x': 925, 'y': 111}, {'x': 925, 'y': 243}, {'x': 786, 'y': 243}]}}]}, {'property': {'detectedLanguages': [{'languageCode': 'ja'}]}, 'boundingBox': {'vertices': [{'x': 933, 'y': 104}, {'x': 1079, 'y': 104}, {'x': 1079, 'y': 239}, {'x': 933, 'y': 239}]}, 'symbols': [{'property': {'detectedLanguages': [{'languageCode': 'zh-Hans'}], 'detectedBreak': {'type': 'EOL_SURE_SPACE'}}, 'text': '保', 'boundingBox': {'vertices': [{'x': 933, 'y': 104}, {'x': 1079, 'y': 104}, {'x': 1079, 'y': 239}, {'x': 933, 'y': 239}]}}]}, {'property': {'detectedLanguages': [{'languageCode': 'zh-Hans'}]}, 'boundingBox': {'vertices': [{'x': 165, 'y': 300}, {'x': 312, 'y': 300}, {'x': 312, 'y': 440}, {'x': 165, 'y': 440}]}, 'symbols': [{'property': {'detectedLanguages': [{'languageCode': 'zh-Hans'}]}, 'text': '护', 'boundingBox': {'vertices': [{'x': 165, 'y': 300}, {'x': 312, 'y': 300}, {'x': 312, 'y': 440}, {'x': 165, 'y': 440}]}}]}, {'property': {'detectedLanguages': [{'languageCode': 'zh-Hans'}]}, 'boundingBox': {'vertices': [{'x': 316, 'y': 304}, {'x': 619, 'y': 304}, {'x': 619, 'y': 440}, {'x': 316, 'y': 440}]}, 'symbols': [{'property': {'detectedLanguages': [{'languageCode': 'zh-Hans'}]}, 'text': '卫', 'boundingBox': {'vertices': [{'x': 316, 'y': 311}, {'x': 460, 'y': 311}, {'x': 460, 'y': 436}, {'x': 316, 'y': 436}]}}, {'property': {'detectedLanguages': [{'languageCode': 'zh-Hans'}]}, 'text': '生', 'boundingBox': {'vertices': [{'x': 472, 'y': 304}, {'x': 619, 'y': 304}, {'x': 619, 'y': 440}, {'x': 472, 'y': 440}]}}]}, {'property': {'detectedLanguages': [{'languageCode': 'zh-Hans'}]}, 'boundingBox': {'vertices': [{'x': 631, 'y': 304}, {'x': 930, 'y': 304}, {'x': 930, 'y': 444}, {'x': 631, 'y': 444}]}, 'symbols': [{'property': {'detectedLanguages': [{'languageCode': 'zh-Hans'}]}, 'text': '创', 'boundingBox': {'vertices': [{'x': 631, 'y': 304}, {'x': 771, 'y': 304}, {'x': 771, 'y': 444}, {'x': 631, 'y': 444}]}}, {'property': {'detectedLanguages': [{'languageCode': 'zh-Hans'}]}, 'text': '建', 'boundingBox': {'vertices': [{'x': 786, 'y': 308}, {'x': 930, 'y': 308}, {'x': 930, 'y': 444}, {'x': 786, 'y': 444}]}}]}, {'property': {'detectedLanguages': [{'languageCode': 'zh-Hans'}]}, 'boundingBox': {'vertices': [{'x': 938, 'y': 300}, {'x': 1082, 'y': 300}, {'x': 1082, 'y': 440}, {'x': 938, 'y': 440}]}, 'symbols': [{'property': {'detectedLanguages': [{'languageCode': 'zh-Hans'}], 'detectedBreak': {'type': 'EOL_SURE_SPACE'}}, 'text': '优', 'boundingBox': {'vertices': [{'x': 938, 'y': 300}, {'x': 1082, 'y': 300}, {'x': 1082, 'y': 440}, {'x': 938, 'y': 440}]}}]}, {'property': {'detectedLanguages': [{'languageCode': 'zh-Hans'}]}, 'boundingBox': {'vertices': [{'x': 158, 'y': 503}, {'x': 304, 'y': 509}, {'x': 297, 'y': 655}, {'x': 152, 'y': 649}]}, 'symbols': [{'property': {'detectedLanguages': [{'languageCode': 'zh-Hans'}]}, 'text': '美', 'boundingBox': {'vertices': [{'x': 158, 'y': 503}, {'x': 304, 'y': 509}, {'x': 297, 'y': 655}, {'x': 152, 'y': 649}]}}]}, {'property': {'detectedLanguages': [{'languageCode': 'ja'}]}, 'boundingBox': {'vertices': [{'x': 313, 'y': 501}, {'x': 464, 'y': 508}, {'x': 457, 'y': 653}, {'x': 307, 'y': 647}]}, 'symbols': [{'property': {'detectedLanguages': [{'languageCode': 'zh-Hans'}]}, 'text': '水', 'boundingBox': {'vertices': [{'x': 313, 'y': 501}, {'x': 464, 'y': 508}, {'x': 457, 'y': 653}, {'x': 307, 'y': 647}]}}]}, {'property': {'detectedLanguages': [{'languageCode': 'zh-Hans'}]}, 'boundingBox': {'vertices': [{'x': 466, 'y': 499}, {'x': 772, 'y': 512}, {'x': 765, 'y': 658}, {'x': 460, 'y': 645}]}, 'symbols': [{'property': {'detectedLanguages': [{'languageCode': 'zh-Hans'}]}, 'text': '环', 'boundingBox': {'vertices': [{'x': 465, 'y': 503}, {'x': 623, 'y': 510}, {'x': 617, 'y': 652}, {'x': 459, 'y': 645}]}}, {'property': {'detectedLanguages': [{'languageCode': 'zh-Hans'}], 'detectedBreak': {'type': 'EOL_SURE_SPACE'}}, 'text': '境', 'boundingBox': {'vertices': [{'x': 620, 'y': 506}, {'x': 771, 'y': 513}, {'x': 764, 'y': 658}, {'x': 614, 'y': 652}]}}]}], 'boundingBox': {'vertices': [{'x': 160, 'y': 90}, {'x': 1087, 'y': 104}, {'x': 1078, 'y': 681}, {'x': 151, 'y': 667}]}}]}]}], 'text': '请您爱护和保\\n护卫生创建优\\n美水环境\\n'}}]}\n"
     ]
    }
   ],
   "source": [
    "# Running Vision API\n",
    "import base64\n",
    "IMAGE=\"gs://cloud-training-demos/vision/sign2.jpg\"\n",
    "vservice = build('vision', 'v1', developerKey=APIKEY)\n",
    "request = vservice.images().annotate(body={\n",
    "        'requests': [{\n",
    "                'image': {\n",
    "                    'source': {\n",
    "                        'gcs_image_uri': IMAGE\n",
    "                    }\n",
    "                },\n",
    "                'features': [{\n",
    "                    'type': 'TEXT_DETECTION',\n",
    "                    'maxResults': 3,\n",
    "                }]\n",
    "            }],\n",
    "        })\n",
    "responses = request.execute(num_retries=3)\n",
    "print(responses)"
   ]
  },
  {
   "cell_type": "code",
   "execution_count": 6,
   "metadata": {},
   "outputs": [
    {
     "name": "stdout",
     "output_type": "stream",
     "text": [
      "zh 请您爱护和保\n",
      "护卫生创建优\n",
      "美水环境\n",
      "\n"
     ]
    }
   ],
   "source": [
    "foreigntext = responses['responses'][0]['textAnnotations'][0]['description']\n",
    "foreignlang = responses['responses'][0]['textAnnotations'][0]['locale']\n",
    "print(foreignlang, foreigntext)"
   ]
  },
  {
   "cell_type": "markdown",
   "metadata": {},
   "source": [
    "<h2> Translate sign </h2>"
   ]
  },
  {
   "cell_type": "code",
   "execution_count": 7,
   "metadata": {},
   "outputs": [
    {
     "name": "stdout",
     "output_type": "stream",
     "text": [
      "请您爱护和保\n",
      "护卫生创建优\n",
      "美水环境\n",
      " -> Please protect and protect the health to create a beautiful water environment\n"
     ]
    }
   ],
   "source": [
    "inputs=[foreigntext]\n",
    "outputs = service.translations().list(source=foreignlang, target='en', q=inputs).execute()\n",
    "# print(outputs)\n",
    "for input, output in zip(inputs, outputs['translations']):\n",
    "  print(\"{0} -> {1}\".format(input, output['translatedText']))"
   ]
  },
  {
   "cell_type": "markdown",
   "metadata": {},
   "source": [
    "<h2> Sentiment analysis with Language API </h2>\n",
    "\n",
    "Let's evaluate the sentiment of some famous quotes using Google Cloud Natural Language API."
   ]
  },
  {
   "cell_type": "code",
   "execution_count": 8,
   "metadata": {},
   "outputs": [
    {
     "name": "stdout",
     "output_type": "stream",
     "text": [
      "POLARITY=1 MAGNITUDE=0.9 for To succeed, you must have tremendous perseverance, tremendous will.\n",
      "POLARITY=-1 MAGNITUDE=0.5 for It’s not that I’m so smart, it’s just that I stay with problems longer.\n",
      "POLARITY=1 MAGNITUDE=0.9 for Love is quivering happiness.\n",
      "POLARITY=1 MAGNITUDE=0.9 for Love is of all passions the strongest, for it attacks simultaneously the head, the heart, and the senses.\n",
      "POLARITY=1 MAGNITUDE=0.2 for What difference does it make to the dead, the orphans and the homeless, whether the mad destruction is wrought under the name of totalitarianism or in the holy name of liberty or democracy?\n",
      "POLARITY=-1 MAGNITUDE=0.4 for When someone you love dies, and you’re not expecting it, you don’t lose her all at once; you lose her in pieces over a long time — the way the mail stops coming, and her scent fades from the pillows and even from the clothes in her closet and drawers. \n"
     ]
    }
   ],
   "source": [
    "lservice = build('language', 'v1beta1', developerKey=APIKEY)\n",
    "quotes = [\n",
    "  'To succeed, you must have tremendous perseverance, tremendous will.',\n",
    "  'It’s not that I’m so smart, it’s just that I stay with problems longer.',\n",
    "  'Love is quivering happiness.',\n",
    "  'Love is of all passions the strongest, for it attacks simultaneously the head, the heart, and the senses.',\n",
    "  'What difference does it make to the dead, the orphans and the homeless, whether the mad destruction is wrought under the name of totalitarianism or in the holy name of liberty or democracy?',\n",
    "  'When someone you love dies, and you’re not expecting it, you don’t lose her all at once; you lose her in pieces over a long time — the way the mail stops coming, and her scent fades from the pillows and even from the clothes in her closet and drawers. '\n",
    "]\n",
    "for quote in quotes:\n",
    "  response = lservice.documents().analyzeSentiment(\n",
    "    body={\n",
    "      'document': {\n",
    "         'type': 'PLAIN_TEXT',\n",
    "         'content': quote\n",
    "      }\n",
    "    }).execute()\n",
    "  polarity = response['documentSentiment']['polarity']\n",
    "  magnitude = response['documentSentiment']['magnitude']\n",
    "  print('POLARITY=%s MAGNITUDE=%s for %s' % (polarity, magnitude, quote))"
   ]
  },
  {
   "cell_type": "markdown",
   "metadata": {},
   "source": [
    "<h2> Speech API </h2>\n",
    "\n",
    "The Speech API can work on streaming data, audio content encoded and embedded directly into the POST message, or on a file on Cloud Storage. Here I'll pass in this <a href=\"https://storage.googleapis.com/cloud-training-demos/vision/audio.raw\">audio file</a> in Cloud Storage."
   ]
  },
  {
   "cell_type": "code",
   "execution_count": 9,
   "metadata": {},
   "outputs": [
    {
     "name": "stdout",
     "output_type": "stream",
     "text": [
      "{'results': [{'alternatives': [{'confidence': 0.9835046, 'transcript': 'how old is the Brooklyn Bridge'}]}]}\n"
     ]
    }
   ],
   "source": [
    "sservice = build('speech', 'v1', developerKey=APIKEY)\n",
    "response = sservice.speech().recognize(\n",
    "    body={\n",
    "        'config': {\n",
    "            'languageCode' : 'en-US',\n",
    "            'encoding': 'LINEAR16',\n",
    "            'sampleRateHertz': 16000\n",
    "        },\n",
    "        'audio': {\n",
    "            'uri': 'gs://cloud-training-demos/vision/audio.raw'\n",
    "            }\n",
    "        }).execute()\n",
    "print(response)"
   ]
  },
  {
   "cell_type": "code",
   "execution_count": 10,
   "metadata": {},
   "outputs": [
    {
     "name": "stdout",
     "output_type": "stream",
     "text": [
      "how old is the Brooklyn Bridge\n",
      "Confidence=0.983505\n"
     ]
    }
   ],
   "source": [
    "print(response['results'][0]['alternatives'][0]['transcript'])\n",
    "print('Confidence=%f' % response['results'][0]['alternatives'][0]['confidence'])"
   ]
  },
  {
   "cell_type": "markdown",
   "metadata": {},
   "source": [
    "<h2> Clean up </h2>\n",
    "\n",
    "Remember to delete the API key by visiting <a href=\"http://console.cloud.google.com/apis\">API console</a>.\n",
    "\n",
    "If necessary, commit all your notebooks to git.\n",
    "\n",
    "If you are running Datalab on a Compute Engine VM or delegating to one, remember to stop or shut it down so that you are not charged.\n"
   ]
  },
  {
   "cell_type": "markdown",
   "metadata": {},
   "source": [
    "## Challenge Exercise\n",
    "\n",
    "Here are a few portraits from the Metropolitan Museum of Art, New York (they are part of a [BigQuery public dataset](https://bigquery.cloud.google.com/dataset/bigquery-public-data:the_met) ):\n",
    "\n",
    "* gs://cloud-training-demos/images/met/APS6880.jpg\n",
    "* gs://cloud-training-demos/images/met/DP205018.jpg\n",
    "* gs://cloud-training-demos/images/met/DP290402.jpg\n",
    "* gs://cloud-training-demos/images/met/DP700302.jpg\n",
    "\n",
    "Use the Vision API to identify which of these images depict happy people and which ones depict unhappy people.\n",
    "\n",
    "Hint (highlight to see): <p style=\"color:white\">You will need to look for joyLikelihood and/or sorrowLikelihood from the response.</p>"
   ]
  },
  {
   "cell_type": "code",
   "execution_count": 22,
   "metadata": {},
   "outputs": [
    {
     "name": "stdout",
     "output_type": "stream",
     "text": [
      "\n",
      "Happy PPL: LIKELY\n",
      "Unhappy PPL: VERY_UNLIKELY\n",
      "\n",
      "Happy PPL: LIKELY\n",
      "Unhappy PPL: VERY_UNLIKELY\n",
      "\n",
      "Happy PPL: VERY_UNLIKELY\n",
      "Unhappy PPL: VERY_UNLIKELY\n",
      "\n",
      "Happy PPL: VERY_UNLIKELY\n",
      "Unhappy PPL: VERY_UNLIKELY\n"
     ]
    }
   ],
   "source": [
    "\n",
    "# Running Vision API\n",
    "import base64\n",
    "IMAGES= [ \"gs://cloud-training-demos/images/met/APS6880.jpg\", \"gs://cloud-training-demos/images/met/DP205018.jpg\", \"gs://cloud-training-demos/images/met/DP290402.jpg\",\n",
    "        \"gs://cloud-training-demos/images/met/DP700302.jpg\"]\n",
    "\n",
    "vservice = build('vision', 'v1', developerKey=APIKEY)\n",
    "\n",
    "for image in IMAGES:\n",
    "\n",
    "  request = vservice.images().annotate(body={\n",
    "          'requests': [{\n",
    "                  'image': {\n",
    "                      'source': {\n",
    "                          'gcs_image_uri': image\n",
    "                      }\n",
    "                  },\n",
    "                  'features': [{\n",
    "                      'type': 'FACE_DETECTION',\n",
    "                      'maxResults': 3,\n",
    "                  }]\n",
    "              }],\n",
    "          })\n",
    "  responses = request.execute(num_retries=3)\n",
    "  \n",
    "  print('\\nHappy PPL: {}'.format(responses['responses'][0]['faceAnnotations'][0]['joyLikelihood']))\n",
    "  print('Unhappy PPL: {}'.format(responses['responses'][0]['faceAnnotations'][0]['sorrowLikelihood']))\n"
   ]
  },
  {
   "cell_type": "markdown",
   "metadata": {},
   "source": [
    "Copyright 2018 Google Inc.\n",
    "Licensed under the Apache License, Version 2.0 (the \"License\"); you may not use this file except in compliance with the License. You may obtain a copy of the License at\n",
    "http://www.apache.org/licenses/LICENSE-2.0\n",
    "Unless required by applicable law or agreed to in writing, software distributed under the License is distributed on an \"AS IS\" BASIS, WITHOUT WARRANTIES OR CONDITIONS OF ANY KIND, either express or implied. See the License for the specific language governing permissions and limitations under the License."
   ]
  },
  {
   "cell_type": "code",
   "execution_count": null,
   "metadata": {
    "collapsed": true
   },
   "outputs": [],
   "source": []
  }
 ],
 "metadata": {
  "kernelspec": {
   "display_name": "Python 3",
   "language": "python",
   "name": "python3"
  },
  "language_info": {
   "codemirror_mode": {
    "name": "ipython",
    "version": 3
   },
   "file_extension": ".py",
   "mimetype": "text/x-python",
   "name": "python",
   "nbconvert_exporter": "python",
   "pygments_lexer": "ipython3",
   "version": "3.5.6"
  }
 },
 "nbformat": 4,
 "nbformat_minor": 1
}
