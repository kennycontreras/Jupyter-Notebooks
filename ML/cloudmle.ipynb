{
 "cells": [
  {
   "cell_type": "markdown",
   "metadata": {},
   "source": [
    "<h1> Scaling up ML using Cloud ML Engine </h1>\n",
    "\n",
    "In this notebook, we take a previously developed TensorFlow model to predict taxifare rides and package it up so that it can be run in Cloud MLE. For now, we'll run this on a small dataset. The model that was developed is rather simplistic, and therefore, the accuracy of the model is not great either.  However, this notebook illustrates *how* to package up a TensorFlow model to run it within Cloud ML. \n",
    "\n",
    "Later in the course, we will look at ways to make a more effective machine learning model."
   ]
  },
  {
   "cell_type": "markdown",
   "metadata": {},
   "source": [
    "<h2> Environment variables for project and bucket </h2>\n",
    "\n",
    "Note that:\n",
    "<ol>\n",
    "<li> Your project id is the *unique* string that identifies your project (not the project name). You can find this from the GCP Console dashboard's Home page.  My dashboard reads:  <b>Project ID:</b> cloud-training-demos </li>\n",
    "<li> Cloud training often involves saving and restoring model files. If you don't have a bucket already, I suggest that you create one from the GCP console (because it will dynamically check whether the bucket name you want is available). A common pattern is to prefix the bucket name by the project id, so that it is unique. Also, for cost reasons, you might want to use a single region bucket. </li>\n",
    "</ol>\n",
    "<b>Change the cell below</b> to reflect your Project ID and bucket name.\n"
   ]
  },
  {
   "cell_type": "code",
   "execution_count": 1,
   "metadata": {},
   "outputs": [],
   "source": [
    "import os\n",
    "PROJECT = 'qwiklabs-gcp-4ec8a2116b8b4a75' # REPLACE WITH YOUR PROJECT ID\n",
    "REGION = 'us-central1' # Choose an available region for Cloud MLE from https://cloud.google.com/ml-engine/docs/regions.\n",
    "BUCKET = 'qwiklabs-gcp-4ec8a2116b8b4a75' # REPLACE WITH YOUR BUCKET NAME. Use a regional bucket in the region you selected."
   ]
  },
  {
   "cell_type": "code",
   "execution_count": 2,
   "metadata": {},
   "outputs": [],
   "source": [
    "# for bash\n",
    "os.environ['PROJECT'] = PROJECT\n",
    "os.environ['BUCKET'] = BUCKET\n",
    "os.environ['REGION'] = REGION\n",
    "os.environ['TFVERSION'] = '1.4'  # Tensorflow version"
   ]
  },
  {
   "cell_type": "code",
   "execution_count": 3,
   "metadata": {},
   "outputs": [
    {
     "name": "stderr",
     "output_type": "stream",
     "text": [
      "Updated property [core/project].\n",
      "Updated property [compute/region].\n"
     ]
    }
   ],
   "source": [
    "%bash\n",
    "gcloud config set project $PROJECT\n",
    "gcloud config set compute/region $REGION"
   ]
  },
  {
   "cell_type": "markdown",
   "metadata": {},
   "source": [
    "Allow the Cloud ML Engine service account to read/write to the bucket containing training data."
   ]
  },
  {
   "cell_type": "code",
   "execution_count": 4,
   "metadata": {},
   "outputs": [
    {
     "name": "stdout",
     "output_type": "stream",
     "text": [
      "Authorizing the Cloud ML Service account service-940366452726@cloud-ml.google.com.iam.gserviceaccount.com to access files in qwiklabs-gcp-4ec8a2116b8b4a75\n"
     ]
    },
    {
     "name": "stderr",
     "output_type": "stream",
     "text": [
      "  % Total    % Received % Xferd  Average Speed   Time    Time     Time  Current\n",
      "                                 Dload  Upload   Total   Spent    Left  Speed\n",
      "\r",
      "  0     0    0     0    0     0      0      0 --:--:-- --:--:-- --:--:--     0\r",
      "  0     0    0     0    0     0      0      0 --:--:-- --:--:-- --:--:--     0\r",
      "100   235    0   235    0     0   1080      0 --:--:-- --:--:-- --:--:--  1077\n",
      "Updated default ACL on gs://qwiklabs-gcp-4ec8a2116b8b4a75/\n",
      "Encountered a problem: CommandException: No URLs matched: gs://qwiklabs-gcp-4ec8a2116b8b4a75/*\n",
      "Updated ACL on gs://qwiklabs-gcp-4ec8a2116b8b4a75/\n"
     ]
    }
   ],
   "source": [
    "%bash\n",
    "PROJECT_ID=$PROJECT\n",
    "AUTH_TOKEN=$(gcloud auth print-access-token)\n",
    "SVC_ACCOUNT=$(curl -X GET -H \"Content-Type: application/json\" \\\n",
    "    -H \"Authorization: Bearer $AUTH_TOKEN\" \\\n",
    "    https://ml.googleapis.com/v1/projects/${PROJECT_ID}:getConfig \\\n",
    "    | python -c \"import json; import sys; response = json.load(sys.stdin); \\\n",
    "    print(response['serviceAccount'])\")\n",
    "\n",
    "echo \"Authorizing the Cloud ML Service account $SVC_ACCOUNT to access files in $BUCKET\"\n",
    "gsutil -m defacl ch -u $SVC_ACCOUNT:R gs://$BUCKET\n",
    "gsutil -m acl ch -u $SVC_ACCOUNT:R -r gs://$BUCKET  # error message (if bucket is empty) can be ignored\n",
    "gsutil -m acl ch -u $SVC_ACCOUNT:W gs://$BUCKET"
   ]
  },
  {
   "cell_type": "markdown",
   "metadata": {},
   "source": [
    "<h2> Packaging up the code </h2>\n",
    "\n",
    "Take your code and put into a standard Python package structure.  <a href=\"taxifare/trainer/model.py\">model.py</a> and <a href=\"taxifare/trainer/task.py\">task.py</a> contain the Tensorflow code from earlier (explore the <a href=\"taxifare/trainer/\">directory structure</a>)."
   ]
  },
  {
   "cell_type": "code",
   "execution_count": 5,
   "metadata": {},
   "outputs": [
    {
     "name": "stdout",
     "output_type": "stream",
     "text": [
      "taxifare\r\n",
      "taxifare/setup.cfg\r\n",
      "taxifare/trainer\r\n",
      "taxifare/trainer/model.py\r\n",
      "taxifare/trainer/__init__.py\r\n",
      "taxifare/trainer/task.py\r\n",
      "taxifare/setup.py\r\n",
      "taxifare/PKG-INFO\r\n"
     ]
    }
   ],
   "source": [
    "!find taxifare"
   ]
  },
  {
   "cell_type": "code",
   "execution_count": 6,
   "metadata": {},
   "outputs": [
    {
     "name": "stdout",
     "output_type": "stream",
     "text": [
      "#!/usr/bin/env python\n",
      "\n",
      "# Copyright 2017 Google Inc. All Rights Reserved.\n",
      "#\n",
      "# Licensed under the Apache License, Version 2.0 (the \"License\");\n",
      "# you may not use this file except in compliance with the License.\n",
      "# You may obtain a copy of the License at\n",
      "#\n",
      "#      http://www.apache.org/licenses/LICENSE-2.0\n",
      "#\n",
      "# Unless required by applicable law or agreed to in writing, software\n",
      "# distributed under the License is distributed on an \"AS IS\" BASIS,\n",
      "# WITHOUT WARRANTIES OR CONDITIONS OF ANY KIND, either express or implied.\n",
      "# See the License for the specific language governing permissions and\n",
      "# limitations under the License.\n",
      "\n",
      "import tensorflow as tf\n",
      "import numpy as np\n",
      "import shutil\n",
      "\n",
      "tf.logging.set_verbosity(tf.logging.INFO)\n",
      "\n",
      "# List the CSV columns\n",
      "CSV_COLUMNS = ['fare_amount', 'pickuplon','pickuplat','dropofflon','dropofflat','passengers', 'key']\n",
      "\n",
      "#Choose which column is your label\n",
      "LABEL_COLUMN = 'fare_amount'\n",
      "\n",
      "# Set the default values for each CSV column in case there is a missing value\n",
      "DEFAULTS = [[0.0], [-74.0], [40.0], [-74.0], [40.7], [1.0], ['nokey']]\n",
      "\n",
      "# Create an input function that stores your data into a dataset\n",
      "def read_dataset(filename, mode, batch_size = 512):\n",
      "    def _input_fn():\n",
      "        def decode_csv(value_column):\n",
      "            columns = tf.decode_csv(value_column, record_defaults = DEFAULTS)\n",
      "            features = dict(list(zip(CSV_COLUMNS, columns)))\n",
      "            label = features.pop(LABEL_COLUMN)\n",
      "            return features, label\n",
      "    \n",
      "        # Create list of files that match pattern\n",
      "        file_list = tf.gfile.Glob(filename)\n",
      "\n",
      "        # Create dataset from file list\n",
      "        dataset = tf.data.TextLineDataset(file_list).map(decode_csv)\n",
      "        \n",
      "        if mode == tf.estimator.ModeKeys.TRAIN:\n",
      "            num_epochs = None # indefinitely\n",
      "            dataset = dataset.shuffle(buffer_size = 10 * batch_size)\n",
      "        else:\n",
      "            num_epochs = 1 # end-of-input after this\n",
      "\n",
      "        dataset = dataset.repeat(num_epochs).batch(batch_size)\n",
      "        return dataset.make_one_shot_iterator().get_next()\n",
      "    return _input_fn\n",
      "\n",
      "# Define your feature columns\n",
      "INPUT_COLUMNS = [\n",
      "    tf.feature_column.numeric_column('pickuplon'),\n",
      "    tf.feature_column.numeric_column('pickuplat'),\n",
      "    tf.feature_column.numeric_column('dropofflat'),\n",
      "    tf.feature_column.numeric_column('dropofflon'),\n",
      "    tf.feature_column.numeric_column('passengers'),\n",
      "]\n",
      "\n",
      "# Create a function that will augment your feature set\n",
      "def add_more_features(feats):\n",
      "    # Nothing to add (yet!)\n",
      "    return feats\n",
      "\n",
      "feature_cols = add_more_features(INPUT_COLUMNS)\n",
      "\n",
      "# Create your serving input function so that your trained model will be able to serve predictions\n",
      "def serving_input_fn():\n",
      "    feature_placeholders = {\n",
      "        column.name: tf.placeholder(tf.float32, [None]) for column in INPUT_COLUMNS\n",
      "    }\n",
      "    features = feature_placeholders\n",
      "    return tf.estimator.export.ServingInputReceiver(features, feature_placeholders)\n",
      "\n",
      "# Create an estimator that we are going to train and evaluate\n",
      "def train_and_evaluate(args):\n",
      "    estimator = tf.estimator.DNNRegressor(\n",
      "        model_dir = args['output_dir'],\n",
      "        feature_columns = feature_cols,\n",
      "        hidden_units = args['hidden_units'])\n",
      "    train_spec = tf.estimator.TrainSpec(\n",
      "        input_fn = read_dataset(args['train_data_paths'],\n",
      "                                batch_size = args['train_batch_size'],\n",
      "                                mode = tf.estimator.ModeKeys.TRAIN),\n",
      "        max_steps = args['train_steps'])\n",
      "    exporter = tf.estimator.LatestExporter('exporter', serving_input_fn)\n",
      "    eval_spec = tf.estimator.EvalSpec(\n",
      "        input_fn = read_dataset(args['eval_data_paths'],\n",
      "                                batch_size = 10000,\n",
      "                                mode = tf.estimator.ModeKeys.EVAL),\n",
      "        steps = None,\n",
      "        start_delay_secs = args['eval_delay_secs'],\n",
      "        throttle_secs = args['min_eval_frequency'],\n",
      "        exporters = exporter)\n",
      "    tf.estimator.train_and_evaluate(estimator, train_spec, eval_spec)\n"
     ]
    }
   ],
   "source": [
    "!cat taxifare/trainer/model.py"
   ]
  },
  {
   "cell_type": "markdown",
   "metadata": {},
   "source": [
    "<h2> Find absolute paths to your data </h2>"
   ]
  },
  {
   "cell_type": "markdown",
   "metadata": {},
   "source": [
    "Note the absolute paths below. /content is mapped in Datalab to where the home icon takes you"
   ]
  },
  {
   "cell_type": "code",
   "execution_count": 7,
   "metadata": {},
   "outputs": [
    {
     "name": "stdout",
     "output_type": "stream",
     "text": [
      "/content/datalab/training-data-analyst/courses/machine_learning/cloudmle\n",
      "9.0,-73.93219757080078,40.79558181762695,-73.93547058105469,40.80010986328125,1,0\n",
      "21.0,-73.975305,40.790067,-73.996612,40.733275,1,0\n"
     ]
    }
   ],
   "source": [
    "%bash\n",
    "echo $PWD\n",
    "rm -rf $PWD/taxi_trained\n",
    "cp $PWD/../tensorflow/taxi-train.csv .\n",
    "cp $PWD/../tensorflow/taxi-valid.csv .\n",
    "head -1 $PWD/taxi-train.csv\n",
    "head -1 $PWD/taxi-valid.csv"
   ]
  },
  {
   "cell_type": "markdown",
   "metadata": {},
   "source": [
    "<h2> Running the Python module from the command-line </h2>"
   ]
  },
  {
   "cell_type": "code",
   "execution_count": 8,
   "metadata": {},
   "outputs": [
    {
     "name": "stderr",
     "output_type": "stream",
     "text": [
      "/usr/local/envs/py3env/lib/python3.5/site-packages/h5py/__init__.py:36: FutureWarning: Conversion of the second argument of issubdtype from `float` to `np.floating` is deprecated. In future, it will be treated as `np.float64 == np.dtype(float).type`.\n",
      "  from ._conv import register_converters as _register_converters\n",
      "INFO:tensorflow:Using default config.\n",
      "INFO:tensorflow:Using config: {'_evaluation_master': '', '_save_summary_steps': 100, '_keep_checkpoint_max': 5, '_task_type': 'worker', '_task_id': 0, '_is_chief': True, '_log_step_count_steps': 100, '_model_dir': '/content/datalab/training-data-analyst/courses/machine_learning/cloudmle/taxi_trained', '_global_id_in_cluster': 0, '_keep_checkpoint_every_n_hours': 10000, '_save_checkpoints_secs': 600, '_train_distribute': None, '_save_checkpoints_steps': None, '_num_worker_replicas': 1, '_tf_random_seed': None, '_session_config': None, '_num_ps_replicas': 0, '_service': None, '_cluster_spec': <tensorflow.python.training.server_lib.ClusterSpec object at 0x7fa9f1835ba8>, '_master': ''}\n",
      "INFO:tensorflow:Running training and evaluation locally (non-distributed).\n",
      "INFO:tensorflow:Start train and evaluate loop. The evaluate will happen after 300 secs (eval_spec.throttle_secs) or training is finished.\n",
      "INFO:tensorflow:Calling model_fn.\n",
      "INFO:tensorflow:Done calling model_fn.\n",
      "INFO:tensorflow:Create CheckpointSaverHook.\n",
      "INFO:tensorflow:Graph was finalized.\n",
      "2019-06-06 19:35:33.186305: I tensorflow/core/platform/cpu_feature_guard.cc:140] Your CPU supports instructions that this TensorFlow binary was not compiled to use: AVX2 FMA\n",
      "INFO:tensorflow:Running local_init_op.\n",
      "INFO:tensorflow:Done running local_init_op.\n",
      "INFO:tensorflow:Saving checkpoints for 1 into /content/datalab/training-data-analyst/courses/machine_learning/cloudmle/taxi_trained/model.ckpt.\n",
      "INFO:tensorflow:loss = 279096.16, step = 1\n",
      "INFO:tensorflow:global_step/sec: 40.1524\n",
      "INFO:tensorflow:loss = 97132.27, step = 101 (2.492 sec)\n",
      "INFO:tensorflow:global_step/sec: 40.7752\n",
      "INFO:tensorflow:loss = 93367.76, step = 201 (2.452 sec)\n",
      "INFO:tensorflow:global_step/sec: 39.8934\n",
      "INFO:tensorflow:loss = 110343.44, step = 301 (2.507 sec)\n",
      "INFO:tensorflow:global_step/sec: 46.8533\n",
      "INFO:tensorflow:loss = 64275.85, step = 401 (2.134 sec)\n",
      "INFO:tensorflow:global_step/sec: 43.2379\n",
      "INFO:tensorflow:loss = 112130.4, step = 501 (2.313 sec)\n",
      "INFO:tensorflow:global_step/sec: 42.826\n",
      "INFO:tensorflow:loss = 109730.19, step = 601 (2.335 sec)\n",
      "INFO:tensorflow:global_step/sec: 43.5814\n",
      "INFO:tensorflow:loss = 115457.42, step = 701 (2.295 sec)\n",
      "INFO:tensorflow:global_step/sec: 42.5295\n",
      "INFO:tensorflow:loss = 75970.945, step = 801 (2.351 sec)\n",
      "INFO:tensorflow:global_step/sec: 42.8901\n",
      "INFO:tensorflow:loss = 91685.195, step = 901 (2.332 sec)\n",
      "INFO:tensorflow:Saving checkpoints for 1000 into /content/datalab/training-data-analyst/courses/machine_learning/cloudmle/taxi_trained/model.ckpt.\n",
      "INFO:tensorflow:Loss for final step: 71149.57.\n",
      "INFO:tensorflow:Calling model_fn.\n",
      "INFO:tensorflow:Done calling model_fn.\n",
      "INFO:tensorflow:Starting evaluation at 2019-06-06-19:35:58\n",
      "INFO:tensorflow:Graph was finalized.\n",
      "INFO:tensorflow:Restoring parameters from /content/datalab/training-data-analyst/courses/machine_learning/cloudmle/taxi_trained/model.ckpt-1000\n",
      "INFO:tensorflow:Running local_init_op.\n",
      "INFO:tensorflow:Done running local_init_op.\n",
      "INFO:tensorflow:Finished evaluation at 2019-06-06-19:35:58\n",
      "INFO:tensorflow:Saving dict for global step 1000: average_loss = 167.85286, global_step = 1000, loss = 263696.84\n",
      "INFO:tensorflow:Calling model_fn.\n",
      "INFO:tensorflow:Done calling model_fn.\n",
      "INFO:tensorflow:Signatures INCLUDED in export for Predict: ['predict']\n",
      "INFO:tensorflow:Signatures INCLUDED in export for Classify: None\n",
      "INFO:tensorflow:Signatures INCLUDED in export for Regress: None\n",
      "INFO:tensorflow:Signatures EXCLUDED from export because they cannot be be served via TensorFlow Serving APIs:\n",
      "INFO:tensorflow:'serving_default' : Regression input must be a single string Tensor; got {'dropofflat': <tf.Tensor 'Placeholder_2:0' shape=(?,) dtype=float32>, 'passengers': <tf.Tensor 'Placeholder_4:0' shape=(?,) dtype=float32>, 'pickuplat': <tf.Tensor 'Placeholder_1:0' shape=(?,) dtype=float32>, 'dropofflon': <tf.Tensor 'Placeholder_3:0' shape=(?,) dtype=float32>, 'pickuplon': <tf.Tensor 'Placeholder:0' shape=(?,) dtype=float32>}\n",
      "INFO:tensorflow:'regression' : Regression input must be a single string Tensor; got {'dropofflat': <tf.Tensor 'Placeholder_2:0' shape=(?,) dtype=float32>, 'passengers': <tf.Tensor 'Placeholder_4:0' shape=(?,) dtype=float32>, 'pickuplat': <tf.Tensor 'Placeholder_1:0' shape=(?,) dtype=float32>, 'dropofflon': <tf.Tensor 'Placeholder_3:0' shape=(?,) dtype=float32>, 'pickuplon': <tf.Tensor 'Placeholder:0' shape=(?,) dtype=float32>}\n",
      "WARNING:tensorflow:Export includes no default signature!\n",
      "INFO:tensorflow:Restoring parameters from /content/datalab/training-data-analyst/courses/machine_learning/cloudmle/taxi_trained/model.ckpt-1000\n",
      "INFO:tensorflow:Assets added to graph.\n",
      "INFO:tensorflow:No assets to write.\n",
      "INFO:tensorflow:SavedModel written to: b\"/content/datalab/training-data-analyst/courses/machine_learning/cloudmle/taxi_trained/export/exporter/temp-b'1559849759'/saved_model.pb\"\n"
     ]
    }
   ],
   "source": [
    "%bash\n",
    "rm -rf taxifare.tar.gz taxi_trained\n",
    "export PYTHONPATH=${PYTHONPATH}:${PWD}/taxifare\n",
    "python -m trainer.task \\\n",
    "   --train_data_paths=\"${PWD}/taxi-train*\" \\\n",
    "   --eval_data_paths=${PWD}/taxi-valid.csv  \\\n",
    "   --output_dir=${PWD}/taxi_trained \\\n",
    "   --train_steps=1000 --job-dir=./tmp"
   ]
  },
  {
   "cell_type": "code",
   "execution_count": 9,
   "metadata": {},
   "outputs": [
    {
     "name": "stdout",
     "output_type": "stream",
     "text": [
      "1559849759\n"
     ]
    }
   ],
   "source": [
    "%bash\n",
    "ls $PWD/taxi_trained/export/exporter/"
   ]
  },
  {
   "cell_type": "code",
   "execution_count": 10,
   "metadata": {},
   "outputs": [
    {
     "name": "stdout",
     "output_type": "stream",
     "text": [
      "Writing ./test.json\n"
     ]
    }
   ],
   "source": [
    "%writefile ./test.json\n",
    "{\"pickuplon\": -73.885262,\"pickuplat\": 40.773008,\"dropofflon\": -73.987232,\"dropofflat\": 40.732403,\"passengers\": 2}"
   ]
  },
  {
   "cell_type": "code",
   "execution_count": null,
   "metadata": {},
   "outputs": [],
   "source": [
    "## local predict doesn't work with Python 3 yet\n",
    "#%bash\n",
    "#model_dir=$(ls ${PWD}/taxi_trained/export/exporter)\n",
    "#gcloud ml-engine local predict \\\n",
    "#    --model-dir=${PWD}/taxi_trained/export/exporter/${model_dir} \\\n",
    "#    --json-instances=./test.json"
   ]
  },
  {
   "cell_type": "markdown",
   "metadata": {},
   "source": [
    "<h2> Running locally using gcloud </h2>"
   ]
  },
  {
   "cell_type": "code",
   "execution_count": 11,
   "metadata": {},
   "outputs": [
    {
     "name": "stderr",
     "output_type": "stream",
     "text": [
      "/usr/local/envs/py3env/lib/python3.5/site-packages/h5py/__init__.py:36: FutureWarning: Conversion of the second argument of issubdtype from `float` to `np.floating` is deprecated. In future, it will be treated as `np.float64 == np.dtype(float).type`.\n",
      "  from ._conv import register_converters as _register_converters\n",
      "INFO:tensorflow:TF_CONFIG environment variable: {'job': {'args': ['--train_data_paths=/content/datalab/training-data-analyst/courses/machine_learning/cloudmle/taxi-train.csv', '--eval_data_paths=/content/datalab/training-data-analyst/courses/machine_learning/cloudmle/taxi-valid.csv', '--train_steps=1000', '--output_dir=/content/datalab/training-data-analyst/courses/machine_learning/cloudmle/taxi_trained'], 'job_name': 'trainer.task'}, 'task': {}, 'environment': 'cloud', 'cluster': {}}\n",
      "INFO:tensorflow:Using default config.\n",
      "INFO:tensorflow:Using config: {'_train_distribute': None, '_model_dir': '/content/datalab/training-data-analyst/courses/machine_learning/cloudmle/taxi_trained', '_tf_random_seed': None, '_service': None, '_session_config': None, '_evaluation_master': '', '_save_checkpoints_secs': 600, '_save_summary_steps': 100, '_is_chief': True, '_log_step_count_steps': 100, '_task_id': 0, '_num_ps_replicas': 0, '_num_worker_replicas': 1, '_global_id_in_cluster': 0, '_cluster_spec': <tensorflow.python.training.server_lib.ClusterSpec object at 0x7f58d12070b8>, '_keep_checkpoint_max': 5, '_keep_checkpoint_every_n_hours': 10000, '_save_checkpoints_steps': None, '_task_type': 'worker', '_master': ''}\n",
      "INFO:tensorflow:Running training and evaluation locally (non-distributed).\n",
      "INFO:tensorflow:Start train and evaluate loop. The evaluate will happen after 300 secs (eval_spec.throttle_secs) or training is finished.\n",
      "INFO:tensorflow:Calling model_fn.\n",
      "INFO:tensorflow:Done calling model_fn.\n",
      "INFO:tensorflow:Create CheckpointSaverHook.\n",
      "INFO:tensorflow:Graph was finalized.\n",
      "2019-06-06 19:37:07.455148: I tensorflow/core/platform/cpu_feature_guard.cc:140] Your CPU supports instructions that this TensorFlow binary was not compiled to use: AVX2 FMA\n",
      "INFO:tensorflow:Running local_init_op.\n",
      "INFO:tensorflow:Done running local_init_op.\n",
      "INFO:tensorflow:Saving checkpoints for 1 into /content/datalab/training-data-analyst/courses/machine_learning/cloudmle/taxi_trained/model.ckpt.\n",
      "INFO:tensorflow:loss = 38897.402, step = 1\n",
      "INFO:tensorflow:global_step/sec: 42.5948\n",
      "INFO:tensorflow:loss = 105903.664, step = 101 (2.348 sec)\n",
      "INFO:tensorflow:global_step/sec: 43.7824\n",
      "INFO:tensorflow:loss = 99680.016, step = 201 (2.284 sec)\n",
      "INFO:tensorflow:global_step/sec: 42.8409\n",
      "INFO:tensorflow:loss = 109414.61, step = 301 (2.334 sec)\n",
      "INFO:tensorflow:global_step/sec: 48.2575\n",
      "INFO:tensorflow:loss = 94206.32, step = 401 (2.072 sec)\n",
      "INFO:tensorflow:global_step/sec: 42.996\n",
      "INFO:tensorflow:loss = 115792.375, step = 501 (2.326 sec)\n",
      "INFO:tensorflow:global_step/sec: 43.851\n",
      "INFO:tensorflow:loss = 102168.125, step = 601 (2.280 sec)\n",
      "INFO:tensorflow:global_step/sec: 42.2482\n",
      "INFO:tensorflow:loss = 89662.51, step = 701 (2.367 sec)\n",
      "INFO:tensorflow:global_step/sec: 43.1409\n",
      "INFO:tensorflow:loss = 73107.914, step = 801 (2.318 sec)\n",
      "INFO:tensorflow:global_step/sec: 43.5711\n",
      "INFO:tensorflow:loss = 92364.305, step = 901 (2.295 sec)\n",
      "INFO:tensorflow:Saving checkpoints for 1000 into /content/datalab/training-data-analyst/courses/machine_learning/cloudmle/taxi_trained/model.ckpt.\n",
      "INFO:tensorflow:Loss for final step: 84670.164.\n",
      "INFO:tensorflow:Calling model_fn.\n",
      "INFO:tensorflow:Done calling model_fn.\n",
      "INFO:tensorflow:Starting evaluation at 2019-06-06-19:37:31\n",
      "INFO:tensorflow:Graph was finalized.\n",
      "INFO:tensorflow:Restoring parameters from /content/datalab/training-data-analyst/courses/machine_learning/cloudmle/taxi_trained/model.ckpt-1000\n",
      "INFO:tensorflow:Running local_init_op.\n",
      "INFO:tensorflow:Done running local_init_op.\n",
      "INFO:tensorflow:Finished evaluation at 2019-06-06-19:37:31\n",
      "INFO:tensorflow:Saving dict for global step 1000: average_loss = 182.96916, global_step = 1000, loss = 287444.56\n",
      "INFO:tensorflow:Calling model_fn.\n",
      "INFO:tensorflow:Done calling model_fn.\n",
      "INFO:tensorflow:Signatures INCLUDED in export for Classify: None\n",
      "INFO:tensorflow:Signatures INCLUDED in export for Predict: ['predict']\n",
      "INFO:tensorflow:Signatures INCLUDED in export for Regress: None\n",
      "INFO:tensorflow:Signatures EXCLUDED from export because they cannot be be served via TensorFlow Serving APIs:\n",
      "INFO:tensorflow:'serving_default' : Regression input must be a single string Tensor; got {'pickuplon': <tf.Tensor 'Placeholder:0' shape=(?,) dtype=float32>, 'dropofflon': <tf.Tensor 'Placeholder_3:0' shape=(?,) dtype=float32>, 'passengers': <tf.Tensor 'Placeholder_4:0' shape=(?,) dtype=float32>, 'dropofflat': <tf.Tensor 'Placeholder_2:0' shape=(?,) dtype=float32>, 'pickuplat': <tf.Tensor 'Placeholder_1:0' shape=(?,) dtype=float32>}\n",
      "INFO:tensorflow:'regression' : Regression input must be a single string Tensor; got {'pickuplon': <tf.Tensor 'Placeholder:0' shape=(?,) dtype=float32>, 'dropofflon': <tf.Tensor 'Placeholder_3:0' shape=(?,) dtype=float32>, 'passengers': <tf.Tensor 'Placeholder_4:0' shape=(?,) dtype=float32>, 'dropofflat': <tf.Tensor 'Placeholder_2:0' shape=(?,) dtype=float32>, 'pickuplat': <tf.Tensor 'Placeholder_1:0' shape=(?,) dtype=float32>}\n",
      "WARNING:tensorflow:Export includes no default signature!\n",
      "INFO:tensorflow:Restoring parameters from /content/datalab/training-data-analyst/courses/machine_learning/cloudmle/taxi_trained/model.ckpt-1000\n",
      "INFO:tensorflow:Assets added to graph.\n",
      "INFO:tensorflow:No assets to write.\n",
      "INFO:tensorflow:SavedModel written to: b\"/content/datalab/training-data-analyst/courses/machine_learning/cloudmle/taxi_trained/export/exporter/temp-b'1559849851'/saved_model.pb\"\n"
     ]
    }
   ],
   "source": [
    "%bash\n",
    "rm -rf taxifare.tar.gz taxi_trained\n",
    "gcloud ml-engine local train \\\n",
    "   --module-name=trainer.task \\\n",
    "   --package-path=${PWD}/taxifare/trainer \\\n",
    "   -- \\\n",
    "   --train_data_paths=${PWD}/taxi-train.csv \\\n",
    "   --eval_data_paths=${PWD}/taxi-valid.csv  \\\n",
    "   --train_steps=1000 \\\n",
    "   --output_dir=${PWD}/taxi_trained "
   ]
  },
  {
   "cell_type": "markdown",
   "metadata": {},
   "source": [
    "When I ran it (due to random seeds, your results will be different), the ```average_loss``` (Mean Squared Error) on the evaluation dataset was 187, meaning that the RMSE was around 13."
   ]
  },
  {
   "cell_type": "code",
   "execution_count": 12,
   "metadata": {},
   "outputs": [
    {
     "name": "stderr",
     "output_type": "stream",
     "text": [
      "/usr/local/envs/py3env/lib/python3.5/site-packages/h5py/__init__.py:36: FutureWarning: Conversion of the second argument of issubdtype from `float` to `np.floating` is deprecated. In future, it will be treated as `np.float64 == np.dtype(float).type`.\n",
      "  from ._conv import register_converters as _register_converters\n"
     ]
    },
    {
     "data": {
      "text/html": [
       "<p>TensorBoard was started successfully with pid 4369. Click <a href=\"/_proxy/41499/\" target=\"_blank\">here</a> to access it.</p>"
      ]
     },
     "metadata": {},
     "output_type": "display_data"
    },
    {
     "data": {
      "text/plain": [
       "4369"
      ]
     },
     "execution_count": 12,
     "metadata": {},
     "output_type": "execute_result"
    }
   ],
   "source": [
    "from google.datalab.ml import TensorBoard\n",
    "TensorBoard().start('{}/taxi_trained'.format(os.environ['PWD']))"
   ]
  },
  {
   "cell_type": "code",
   "execution_count": 13,
   "metadata": {},
   "outputs": [
    {
     "name": "stdout",
     "output_type": "stream",
     "text": [
      "Stopped TensorBoard with pid 4369\n"
     ]
    }
   ],
   "source": [
    "for pid in TensorBoard.list()['pid']:\n",
    "  TensorBoard().stop(pid)\n",
    "  print('Stopped TensorBoard with pid {}'.format(pid))"
   ]
  },
  {
   "cell_type": "markdown",
   "metadata": {},
   "source": [
    "If the above step (to stop TensorBoard) appears stalled, just move on to the next step. You don't need to wait for it to return."
   ]
  },
  {
   "cell_type": "code",
   "execution_count": 14,
   "metadata": {},
   "outputs": [
    {
     "name": "stdout",
     "output_type": "stream",
     "text": [
      "checkpoint\t\t\t\t     model.ckpt-1000.index\r\n",
      "eval\t\t\t\t\t     model.ckpt-1000.meta\r\n",
      "events.out.tfevents.1559849827.3d03893d7992  model.ckpt-1.data-00000-of-00001\r\n",
      "export\t\t\t\t\t     model.ckpt-1.index\r\n",
      "graph.pbtxt\t\t\t\t     model.ckpt-1.meta\r\n",
      "model.ckpt-1000.data-00000-of-00001\r\n"
     ]
    }
   ],
   "source": [
    "!ls $PWD/taxi_trained"
   ]
  },
  {
   "cell_type": "markdown",
   "metadata": {},
   "source": [
    "<h2> Submit training job using gcloud </h2>\n",
    "\n",
    "First copy the training data to the cloud.  Then, launch a training job.\n",
    "\n",
    "After you submit the job, go to the cloud console (http://console.cloud.google.com) and select <b>Machine Learning | Jobs</b> to monitor progress.  \n",
    "\n",
    "<b>Note:</b> Don't be concerned if the notebook stalls (with a blue progress bar) or returns with an error about being unable to refresh auth tokens. This is a long-lived Cloud job and work is going on in the cloud.  Use the Cloud Console link (above) to monitor the job."
   ]
  },
  {
   "cell_type": "code",
   "execution_count": 21,
   "metadata": {},
   "outputs": [
    {
     "name": "stdout",
     "output_type": "stream",
     "text": [
      "qwiklabs-gcp-4ec8a2116b8b4a75\n"
     ]
    },
    {
     "name": "stderr",
     "output_type": "stream",
     "text": [
      "Removing gs://qwiklabs-gcp-4ec8a2116b8b4a75/taxifare/smallinput/taxi-train.csv#1559850041676263...\n",
      "Removing gs://qwiklabs-gcp-4ec8a2116b8b4a75/taxifare/smallinput/taxi-valid.csv#1559850041641499...\n",
      "/ [1/2 objects]  50% Done                                                       \r",
      "/ [2/2 objects] 100% Done                                                       \r\n",
      "Operation completed over 2 objects.                                              \n",
      "Copying file:///content/datalab/training-data-analyst/courses/machine_learning/cloudmle/taxi-train.csv [Content-Type=text/csv]...\n",
      "Copying file:///content/datalab/training-data-analyst/courses/machine_learning/cloudmle/taxi-valid.csv [Content-Type=text/csv]...\n",
      "/ [0 files][    0.0 B/393.4 KiB]                                                \r",
      "/ [0/2 files][    0.0 B/477.3 KiB]   0% Done                                    \r",
      "/ [1/2 files][477.3 KiB/477.3 KiB]  99% Done                                    \r",
      "/ [2/2 files][477.3 KiB/477.3 KiB] 100% Done                                    \r\n",
      "Operation completed over 2 objects/477.3 KiB.                                    \n"
     ]
    }
   ],
   "source": [
    "%bash\n",
    "echo $BUCKET\n",
    "gsutil -m rm -rf gs://${BUCKET}/taxifare/smallinput/\n",
    "gsutil -m cp ${PWD}/*.csv gs://${BUCKET}/taxifare/smallinput/"
   ]
  },
  {
   "cell_type": "code",
   "execution_count": 23,
   "metadata": {},
   "outputs": [
    {
     "name": "stdout",
     "output_type": "stream",
     "text": [
      "gs://qwiklabs-gcp-4ec8a2116b8b4a75/taxifare/smallinput/taxi_trained us-central1 lab3a_190606_194649\n",
      "jobId: lab3a_190606_194649\n",
      "state: QUEUED\n"
     ]
    },
    {
     "name": "stderr",
     "output_type": "stream",
     "text": [
      "Removing gs://qwiklabs-gcp-4ec8a2116b8b4a75/taxifare/smallinput/taxi_trained/#1559850361993772...\n",
      "Removing gs://qwiklabs-gcp-4ec8a2116b8b4a75/taxifare/smallinput/taxi_trained/checkpoint#1559850363370354...\n",
      "Removing gs://qwiklabs-gcp-4ec8a2116b8b4a75/taxifare/smallinput/taxi_trained/eval/#1559850251251369...\n",
      "Removing gs://qwiklabs-gcp-4ec8a2116b8b4a75/taxifare/smallinput/taxi_trained/eval/events.out.tfevents.1559850251.cmle-training-17203795334990632502#1559850251942305...\n",
      "Removing gs://qwiklabs-gcp-4ec8a2116b8b4a75/taxifare/smallinput/taxi_trained/eval/events.out.tfevents.1559850365.cmle-training-14569149004279592833#1559850366407699...\n",
      "Removing gs://qwiklabs-gcp-4ec8a2116b8b4a75/taxifare/smallinput/taxi_trained/events.out.tfevents.1559850242.cmle-training-17203795334990632502#1559850368213644...\n",
      "Removing gs://qwiklabs-gcp-4ec8a2116b8b4a75/taxifare/smallinput/taxi_trained/events.out.tfevents.1559850356.cmle-training-14569149004279592833#1559850357239139...\n",
      "/ [1/26 objects]   3% Done                                                      \r",
      "/ [2/26 objects]   7% Done                                                      \r",
      "Removing gs://qwiklabs-gcp-4ec8a2116b8b4a75/taxifare/smallinput/taxi_trained/export/#1559850253436911...\n",
      "/ [3/26 objects]  11% Done                                                      \r",
      "/ [4/26 objects]  15% Done                                                      \r",
      "Removing gs://qwiklabs-gcp-4ec8a2116b8b4a75/taxifare/smallinput/taxi_trained/export/exporter/#1559850253597118...\n",
      "/ [5/26 objects]  19% Done                                                      \r",
      "Removing gs://qwiklabs-gcp-4ec8a2116b8b4a75/taxifare/smallinput/taxi_trained/export/exporter/1559850252/#1559850257308512...\n",
      "/ [6/26 objects]  23% Done                                                      \r",
      "/ [7/26 objects]  26% Done                                                      \r",
      "Removing gs://qwiklabs-gcp-4ec8a2116b8b4a75/taxifare/smallinput/taxi_trained/export/exporter/1559850252/saved_model.pb#1559850257473416...\n",
      "Removing gs://qwiklabs-gcp-4ec8a2116b8b4a75/taxifare/smallinput/taxi_trained/export/exporter/1559850252/variables/#1559850257663765...\n",
      "Removing gs://qwiklabs-gcp-4ec8a2116b8b4a75/taxifare/smallinput/taxi_trained/export/exporter/1559850252/variables/variables.data-00000-of-00001#1559850257871654...\n",
      "/ [8/26 objects]  30% Done                                                      \r",
      "/ [9/26 objects]  34% Done                                                      \r",
      "Removing gs://qwiklabs-gcp-4ec8a2116b8b4a75/taxifare/smallinput/taxi_trained/export/exporter/1559850252/variables/variables.index#1559850258149054...\n",
      "/ [10/26 objects]  38% Done                                                     \r",
      "Removing gs://qwiklabs-gcp-4ec8a2116b8b4a75/taxifare/smallinput/taxi_trained/export/exporter/1559850366/#1559850371614676...\n",
      "Removing gs://qwiklabs-gcp-4ec8a2116b8b4a75/taxifare/smallinput/taxi_trained/export/exporter/1559850366/saved_model.pb#1559850371773556...\n",
      "/ [11/26 objects]  42% Done                                                     \r",
      "/ [12/26 objects]  46% Done                                                     \r",
      "/ [13/26 objects]  50% Done                                                     \r",
      "Removing gs://qwiklabs-gcp-4ec8a2116b8b4a75/taxifare/smallinput/taxi_trained/export/exporter/1559850366/variables/#1559850371966785...\n",
      "Removing gs://qwiklabs-gcp-4ec8a2116b8b4a75/taxifare/smallinput/taxi_trained/export/exporter/1559850366/variables/variables.data-00000-of-00001#1559850372124766...\n",
      "/ [14/26 objects]  53% Done                                                     \r",
      "Removing gs://qwiklabs-gcp-4ec8a2116b8b4a75/taxifare/smallinput/taxi_trained/export/exporter/1559850366/variables/variables.index#1559850372312558...\n",
      "Removing gs://qwiklabs-gcp-4ec8a2116b8b4a75/taxifare/smallinput/taxi_trained/graph.pbtxt#1559850359221198...\n",
      "Removing gs://qwiklabs-gcp-4ec8a2116b8b4a75/taxifare/smallinput/taxi_trained/model.ckpt-1.data-00000-of-00001#1559850247301558...\n",
      "/ [15/26 objects]  57% Done                                                     \r",
      "/ [16/26 objects]  61% Done                                                     \r",
      "Removing gs://qwiklabs-gcp-4ec8a2116b8b4a75/taxifare/smallinput/taxi_trained/model.ckpt-1.index#1559850247612322...\n",
      "/ [17/26 objects]  65% Done                                                     \r",
      "/ [18/26 objects]  69% Done                                                     \r",
      "Removing gs://qwiklabs-gcp-4ec8a2116b8b4a75/taxifare/smallinput/taxi_trained/model.ckpt-1.meta#1559850249017301...\n",
      "Removing gs://qwiklabs-gcp-4ec8a2116b8b4a75/taxifare/smallinput/taxi_trained/model.ckpt-2.data-00000-of-00001#1559850362368416...\n",
      "/ [19/26 objects]  73% Done                                                     \r",
      "/ [20/26 objects]  76% Done                                                     \r",
      "/ [21/26 objects]  80% Done                                                     \r",
      "Removing gs://qwiklabs-gcp-4ec8a2116b8b4a75/taxifare/smallinput/taxi_trained/model.ckpt-2.index#1559850362666463...\n",
      "Removing gs://qwiklabs-gcp-4ec8a2116b8b4a75/taxifare/smallinput/taxi_trained/model.ckpt-2.meta#1559850364115283...\n",
      "/ [22/26 objects]  84% Done                                                     \r",
      "/ [23/26 objects]  88% Done                                                     \r",
      "/ [24/26 objects]  92% Done                                                     \r",
      "/ [25/26 objects]  96% Done                                                     \r",
      "/ [26/26 objects] 100% Done                                                     \r\n",
      "Operation completed over 26 objects.                                             \n",
      "Job [lab3a_190606_194649] submitted successfully.\n",
      "Your job is still active. You may view the status of your job with the command\n",
      "\n",
      "  $ gcloud ml-engine jobs describe lab3a_190606_194649\n",
      "\n",
      "or continue streaming the logs with the command\n",
      "\n",
      "  $ gcloud ml-engine jobs stream-logs lab3a_190606_194649\n"
     ]
    }
   ],
   "source": [
    "%%bash\n",
    "OUTDIR=gs://${BUCKET}/taxifare/smallinput/taxi_trained\n",
    "JOBNAME=lab3a_$(date -u +%y%m%d_%H%M%S)\n",
    "echo $OUTDIR $REGION $JOBNAME\n",
    "gsutil -m rm -rf $OUTDIR\n",
    "gcloud ml-engine jobs submit training $JOBNAME \\\n",
    "   --region=$REGION \\\n",
    "   --module-name=trainer.task \\\n",
    "   --package-path=${PWD}/taxifare/trainer \\\n",
    "   --job-dir=$OUTDIR \\\n",
    "   --staging-bucket=gs://$BUCKET \\\n",
    "   --scale-tier=BASIC \\\n",
    "   --runtime-version=$TFVERSION \\\n",
    "   -- \\\n",
    "   --train_data_paths=\"gs://${BUCKET}/taxifare/smallinput/taxi-train*\" \\\n",
    "   --eval_data_paths=\"gs://${BUCKET}/taxifare/smallinput/taxi-valid*\"  \\\n",
    "   --output_dir=$OUTDIR \\\n",
    "   --train_steps=10000"
   ]
  },
  {
   "cell_type": "markdown",
   "metadata": {},
   "source": [
    "Don't be concerned if the notebook appears stalled (with a blue progress bar) or returns with an error about being unable to refresh auth tokens. This is a long-lived Cloud job and work is going on in the cloud. \n",
    "\n",
    "<b>Use the Cloud Console link to monitor the job and do NOT proceed until the job is done.</b>"
   ]
  },
  {
   "cell_type": "markdown",
   "metadata": {},
   "source": [
    "<h2> Deploy model </h2>\n",
    "\n",
    "Find out the actual name of the subdirectory where the model is stored and use it to deploy the model.  Deploying model will take up to <b>5 minutes</b>."
   ]
  },
  {
   "cell_type": "code",
   "execution_count": 27,
   "metadata": {},
   "outputs": [
    {
     "name": "stdout",
     "output_type": "stream",
     "text": [
      "gs://qwiklabs-gcp-4ec8a2116b8b4a75/taxifare/smallinput/taxi_trained/export/exporter/\n",
      "gs://qwiklabs-gcp-4ec8a2116b8b4a75/taxifare/smallinput/taxi_trained/export/exporter/1559850541/\n"
     ]
    }
   ],
   "source": [
    "%bash\n",
    "gsutil ls gs://${BUCKET}/taxifare/smallinput/taxi_trained/export/exporter"
   ]
  },
  {
   "cell_type": "code",
   "execution_count": 28,
   "metadata": {},
   "outputs": [
    {
     "name": "stdout",
     "output_type": "stream",
     "text": [
      "Run these commands one-by-one (the very first time, you'll create a model and then create a version)\n"
     ]
    },
    {
     "name": "stderr",
     "output_type": "stream",
     "text": [
      "ERROR: (gcloud.ml-engine.models.create) Resource in project [qwiklabs-gcp-4ec8a2116b8b4a75] is the subject of a conflict: Field: model.name Error: A model with the same name already exists.\n",
      "- '@type': type.googleapis.com/google.rpc.BadRequest\n",
      "  fieldViolations:\n",
      "  - description: A model with the same name already exists.\n",
      "    field: model.name\n",
      "Creating version (this might take a few minutes)......\n",
      "..................................................................................................................................................................................................................................................................................done.\n"
     ]
    }
   ],
   "source": [
    "%bash\n",
    "MODEL_NAME=\"taxifare\"\n",
    "MODEL_VERSION=\"v1\"\n",
    "MODEL_LOCATION=$(gsutil ls gs://${BUCKET}/taxifare/smallinput/taxi_trained/export/exporter | tail -1)\n",
    "echo \"Run these commands one-by-one (the very first time, you'll create a model and then create a version)\"\n",
    "#gcloud ml-engine versions delete ${MODEL_VERSION} --model ${MODEL_NAME}\n",
    "#gcloud ml-engine models delete ${MODEL_NAME}\n",
    "gcloud ml-engine models create ${MODEL_NAME} --regions $REGION\n",
    "gcloud ml-engine versions create ${MODEL_VERSION} --model ${MODEL_NAME} --origin ${MODEL_LOCATION} --runtime-version $TFVERSION"
   ]
  },
  {
   "cell_type": "markdown",
   "metadata": {},
   "source": [
    "<h2> Prediction </h2>"
   ]
  },
  {
   "cell_type": "code",
   "execution_count": 29,
   "metadata": {},
   "outputs": [
    {
     "name": "stdout",
     "output_type": "stream",
     "text": [
      "PREDICTIONS\n",
      "[-142.9744110107422]\n"
     ]
    }
   ],
   "source": [
    "%bash\n",
    "gcloud ml-engine predict --model=taxifare --version=v1 --json-instances=./test.json"
   ]
  },
  {
   "cell_type": "code",
   "execution_count": 30,
   "metadata": {},
   "outputs": [
    {
     "name": "stdout",
     "output_type": "stream",
     "text": [
      "response={'predictions': [{'predictions': [-142.9744110107422]}]}\n"
     ]
    }
   ],
   "source": [
    "from googleapiclient import discovery\n",
    "from oauth2client.client import GoogleCredentials\n",
    "import json\n",
    "\n",
    "credentials = GoogleCredentials.get_application_default()\n",
    "api = discovery.build('ml', 'v1', credentials=credentials,\n",
    "            discoveryServiceUrl='https://storage.googleapis.com/cloud-ml/discovery/ml_v1_discovery.json')\n",
    "\n",
    "request_data = {'instances':\n",
    "  [\n",
    "      {\n",
    "        'pickuplon': -73.885262,\n",
    "        'pickuplat': 40.773008,\n",
    "        'dropofflon': -73.987232,\n",
    "        'dropofflat': 40.732403,\n",
    "        'passengers': 2,\n",
    "      }\n",
    "  ]\n",
    "}\n",
    "\n",
    "parent = 'projects/%s/models/%s/versions/%s' % (PROJECT, 'taxifare', 'v1')\n",
    "response = api.projects().predict(body=request_data, name=parent).execute()\n",
    "print(\"response={0}\".format(response))"
   ]
  },
  {
   "cell_type": "markdown",
   "metadata": {},
   "source": [
    "<h2> Train on larger dataset </h2>\n",
    "\n",
    "I have already followed the steps below and the files are already available. <b> You don't need to do the steps in this comment. </b> In the next chapter (on feature engineering), we will avoid all this manual processing by using Cloud Dataflow.\n",
    "\n",
    "Go to http://bigquery.cloud.google.com/ and type the query:\n",
    "<pre>\n",
    "SELECT\n",
    "  (tolls_amount + fare_amount) AS fare_amount,\n",
    "  pickup_longitude AS pickuplon,\n",
    "  pickup_latitude AS pickuplat,\n",
    "  dropoff_longitude AS dropofflon,\n",
    "  dropoff_latitude AS dropofflat,\n",
    "  passenger_count*1.0 AS passengers,\n",
    "  'nokeyindata' AS key\n",
    "FROM\n",
    "  [nyc-tlc:yellow.trips]\n",
    "WHERE\n",
    "  trip_distance > 0\n",
    "  AND fare_amount >= 2.5\n",
    "  AND pickup_longitude > -78\n",
    "  AND pickup_longitude < -70\n",
    "  AND dropoff_longitude > -78\n",
    "  AND dropoff_longitude < -70\n",
    "  AND pickup_latitude > 37\n",
    "  AND pickup_latitude < 45\n",
    "  AND dropoff_latitude > 37\n",
    "  AND dropoff_latitude < 45\n",
    "  AND passenger_count > 0\n",
    "  AND ABS(HASH(pickup_datetime)) % 1000 == 1\n",
    "</pre>\n",
    "\n",
    "Note that this is now 1,000,000 rows (i.e. 100x the original dataset).  Export this to CSV using the following steps (Note that <b>I have already done this and made the resulting GCS data publicly available</b>, so you don't need to do it.):\n",
    "<ol>\n",
    "<li> Click on the \"Save As Table\" button and note down the name of the dataset and table.\n",
    "<li> On the BigQuery console, find the newly exported table in the left-hand-side menu, and click on the name.\n",
    "<li> Click on \"Export Table\"\n",
    "<li> Supply your bucket name and give it the name train.csv (for example: gs://cloud-training-demos-ml/taxifare/ch3/train.csv). Note down what this is.  Wait for the job to finish (look at the \"Job History\" on the left-hand-side menu)\n",
    "<li> In the query above, change the final \"== 1\" to \"== 2\" and export this to Cloud Storage as valid.csv (e.g.  gs://cloud-training-demos-ml/taxifare/ch3/valid.csv)\n",
    "<li> Download the two files, remove the header line and upload it back to GCS.\n",
    "</ol>\n",
    "\n",
    "<p/>\n",
    "<p/>\n",
    "\n",
    "<h2> Run Cloud training on 1-million row dataset </h2>\n",
    "\n",
    "This took 60 minutes and uses as input 1-million rows.  The model is exactly the same as above. The only changes are to the input (to use the larger dataset) and to the Cloud MLE tier (to use STANDARD_1 instead of BASIC -- STANDARD_1 is approximately 10x more powerful than BASIC).  At the end of the training the loss was 32, but the RMSE (calculated on the validation dataset) was stubbornly at 9.03. So, simply adding more data doesn't help."
   ]
  },
  {
   "cell_type": "code",
   "execution_count": null,
   "metadata": {},
   "outputs": [],
   "source": [
    "%%bash\n",
    "\n",
    "XXXXX  this takes 60 minutes. if you are sure you want to run it, then remove this line.\n",
    "\n",
    "OUTDIR=gs://${BUCKET}/taxifare/ch3/taxi_trained\n",
    "JOBNAME=lab3a_$(date -u +%y%m%d_%H%M%S)\n",
    "CRS_BUCKET=cloud-training-demos # use the already exported data\n",
    "echo $OUTDIR $REGION $JOBNAME\n",
    "gsutil -m rm -rf $OUTDIR\n",
    "gcloud ml-engine jobs submit training $JOBNAME \\\n",
    "   --region=$REGION \\\n",
    "   --module-name=trainer.task \\\n",
    "   --package-path=${PWD}/taxifare/trainer \\\n",
    "   --job-dir=$OUTDIR \\\n",
    "   --staging-bucket=gs://$BUCKET \\\n",
    "   --scale-tier=STANDARD_1 \\\n",
    "   --runtime-version=$TFVERSION \\\n",
    "   -- \\\n",
    "   --train_data_paths=\"gs://${CRS_BUCKET}/taxifare/ch3/train.csv\" \\\n",
    "   --eval_data_paths=\"gs://${CRS_BUCKET}/taxifare/ch3/valid.csv\"  \\\n",
    "   --output_dir=$OUTDIR \\\n",
    "   --train_steps=100000"
   ]
  },
  {
   "cell_type": "markdown",
   "metadata": {},
   "source": [
    "Copyright 2016 Google Inc. Licensed under the Apache License, Version 2.0 (the \"License\"); you may not use this file except in compliance with the License. You may obtain a copy of the License at http://www.apache.org/licenses/LICENSE-2.0 Unless required by applicable law or agreed to in writing, software distributed under the License is distributed on an \"AS IS\" BASIS, WITHOUT WARRANTIES OR CONDITIONS OF ANY KIND, either express or implied. See the License for the specific language governing permissions and limitations under the License"
   ]
  }
 ],
 "metadata": {
  "kernelspec": {
   "display_name": "Python 3",
   "language": "python",
   "name": "python3"
  },
  "language_info": {
   "codemirror_mode": {
    "name": "ipython",
    "version": 3
   },
   "file_extension": ".py",
   "mimetype": "text/x-python",
   "name": "python",
   "nbconvert_exporter": "python",
   "pygments_lexer": "ipython3",
   "version": "3.5.6"
  }
 },
 "nbformat": 4,
 "nbformat_minor": 1
}
