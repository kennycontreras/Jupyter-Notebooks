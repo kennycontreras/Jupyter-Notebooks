{
 "cells": [
  {
   "cell_type": "markdown",
   "metadata": {},
   "source": [
    "<h1> Machine Learning using tf.estimator </h1>\n",
    "\n",
    "In this notebook, we will create a machine learning model using tf.estimator and evaluate its performance.  The dataset is rather small (7700 samples), so we can do it all in-memory.  We will also simply pass the raw data in as-is. "
   ]
  },
  {
   "cell_type": "code",
   "execution_count": 1,
   "metadata": {},
   "outputs": [
    {
     "name": "stderr",
     "output_type": "stream",
     "text": [
      "/usr/local/envs/py3env/lib/python3.5/site-packages/h5py/__init__.py:36: FutureWarning: Conversion of the second argument of issubdtype from `float` to `np.floating` is deprecated. In future, it will be treated as `np.float64 == np.dtype(float).type`.\n",
      "  from ._conv import register_converters as _register_converters\n"
     ]
    },
    {
     "name": "stdout",
     "output_type": "stream",
     "text": [
      "1.8.0\n"
     ]
    }
   ],
   "source": [
    "import datalab.bigquery as bq\n",
    "import tensorflow as tf\n",
    "import pandas as pd\n",
    "import numpy as np\n",
    "import shutil\n",
    "\n",
    "print(tf.__version__)"
   ]
  },
  {
   "cell_type": "markdown",
   "metadata": {},
   "source": [
    "Read data created in the previous chapter."
   ]
  },
  {
   "cell_type": "code",
   "execution_count": 2,
   "metadata": {},
   "outputs": [],
   "source": [
    "# In CSV, label is the first column, after the features, followed by the key\n",
    "CSV_COLUMNS = ['fare_amount', 'pickuplon','pickuplat','dropofflon','dropofflat','passengers', 'key']\n",
    "FEATURES = CSV_COLUMNS[1:len(CSV_COLUMNS) - 1]\n",
    "LABEL = CSV_COLUMNS[0]\n",
    "\n",
    "df_train = pd.read_csv('./taxi-train.csv', header = None, names = CSV_COLUMNS)\n",
    "df_valid = pd.read_csv('./taxi-valid.csv', header = None, names = CSV_COLUMNS)"
   ]
  },
  {
   "cell_type": "markdown",
   "metadata": {},
   "source": [
    "<h2> Input function to read from Pandas Dataframe into tf.constant </h2>"
   ]
  },
  {
   "cell_type": "code",
   "execution_count": 3,
   "metadata": {},
   "outputs": [],
   "source": [
    "def make_input_fn(df, num_epochs):\n",
    "  return tf.estimator.inputs.pandas_input_fn(\n",
    "    x = df,\n",
    "    y = df[LABEL],\n",
    "    batch_size = 128,\n",
    "    num_epochs = num_epochs,\n",
    "    shuffle = True,\n",
    "    queue_capacity = 1000,\n",
    "    num_threads = 1\n",
    "  )"
   ]
  },
  {
   "cell_type": "markdown",
   "metadata": {},
   "source": [
    "### Create feature columns for estimator"
   ]
  },
  {
   "cell_type": "code",
   "execution_count": 4,
   "metadata": {},
   "outputs": [],
   "source": [
    "def make_feature_cols():\n",
    "  input_columns = [tf.feature_column.numeric_column(k) for k in FEATURES]\n",
    "  return input_columns"
   ]
  },
  {
   "cell_type": "markdown",
   "metadata": {},
   "source": [
    "<h3> Linear Regression with tf.Estimator framework </h3>"
   ]
  },
  {
   "cell_type": "code",
   "execution_count": 5,
   "metadata": {},
   "outputs": [
    {
     "name": "stdout",
     "output_type": "stream",
     "text": [
      "INFO:tensorflow:Using default config.\n",
      "INFO:tensorflow:Using config: {'_is_chief': True, '_global_id_in_cluster': 0, '_tf_random_seed': None, '_evaluation_master': '', '_keep_checkpoint_every_n_hours': 10000, '_session_config': None, '_log_step_count_steps': 100, '_cluster_spec': <tensorflow.python.training.server_lib.ClusterSpec object at 0x7f169d69ab00>, '_task_type': 'worker', '_model_dir': 'taxi_trained', '_num_worker_replicas': 1, '_save_checkpoints_steps': None, '_save_checkpoints_secs': 600, '_save_summary_steps': 100, '_service': None, '_train_distribute': None, '_master': '', '_num_ps_replicas': 0, '_task_id': 0, '_keep_checkpoint_max': 5}\n",
      "INFO:tensorflow:Calling model_fn.\n",
      "INFO:tensorflow:Done calling model_fn.\n",
      "INFO:tensorflow:Create CheckpointSaverHook.\n",
      "INFO:tensorflow:Graph was finalized.\n",
      "INFO:tensorflow:Running local_init_op.\n",
      "INFO:tensorflow:Done running local_init_op.\n",
      "INFO:tensorflow:Saving checkpoints for 1 into taxi_trained/model.ckpt.\n",
      "INFO:tensorflow:step = 1, loss = 32333.568\n",
      "INFO:tensorflow:global_step/sec: 256.74\n",
      "INFO:tensorflow:step = 101, loss = 11418.605 (0.393 sec)\n",
      "INFO:tensorflow:global_step/sec: 264.059\n",
      "INFO:tensorflow:step = 201, loss = 7447.863 (0.379 sec)\n",
      "INFO:tensorflow:global_step/sec: 292.316\n",
      "INFO:tensorflow:step = 301, loss = 12067.197 (0.342 sec)\n",
      "INFO:tensorflow:global_step/sec: 288.543\n",
      "INFO:tensorflow:step = 401, loss = 8802.017 (0.347 sec)\n",
      "INFO:tensorflow:global_step/sec: 242.642\n",
      "INFO:tensorflow:step = 501, loss = 13709.151 (0.412 sec)\n",
      "INFO:tensorflow:Saving checkpoints for 573 into taxi_trained/model.ckpt.\n",
      "INFO:tensorflow:Loss for final step: 9384.151.\n"
     ]
    },
    {
     "data": {
      "text/plain": [
       "<tensorflow.python.estimator.canned.linear.LinearRegressor at 0x7f16b955eb00>"
      ]
     },
     "execution_count": 5,
     "metadata": {},
     "output_type": "execute_result"
    }
   ],
   "source": [
    "tf.logging.set_verbosity(tf.logging.INFO)\n",
    "\n",
    "OUTDIR = 'taxi_trained'\n",
    "shutil.rmtree(OUTDIR, ignore_errors = True) # start fresh each time\n",
    "\n",
    "model = tf.estimator.LinearRegressor(\n",
    "      feature_columns = make_feature_cols(), model_dir = OUTDIR)\n",
    "\n",
    "model.train(input_fn = make_input_fn(df_train, num_epochs = 10))"
   ]
  },
  {
   "cell_type": "markdown",
   "metadata": {},
   "source": [
    "Evaluate on the validation data (we should defer using the test data to after we have selected a final model)."
   ]
  },
  {
   "cell_type": "code",
   "execution_count": 6,
   "metadata": {},
   "outputs": [
    {
     "name": "stdout",
     "output_type": "stream",
     "text": [
      "INFO:tensorflow:Calling model_fn.\n",
      "INFO:tensorflow:Done calling model_fn.\n",
      "INFO:tensorflow:Starting evaluation at 2019-06-05-01:39:06\n",
      "INFO:tensorflow:Graph was finalized.\n",
      "INFO:tensorflow:Restoring parameters from taxi_trained/model.ckpt-573\n",
      "INFO:tensorflow:Running local_init_op.\n",
      "INFO:tensorflow:Done running local_init_op.\n",
      "INFO:tensorflow:Finished evaluation at 2019-06-05-01:39:07\n",
      "INFO:tensorflow:Saving dict for global step 573: average_loss = 94.479454, global_step = 573, loss = 11417.479\n",
      "RMSE on validation dataset = 9.720054626464844\n"
     ]
    }
   ],
   "source": [
    "def print_rmse(model, name, df):\n",
    "  metrics = model.evaluate(input_fn = make_input_fn(df, 1))\n",
    "  print('RMSE on {} dataset = {}'.format(name, np.sqrt(metrics['average_loss'])))\n",
    "print_rmse(model, 'validation', df_valid)"
   ]
  },
  {
   "cell_type": "markdown",
   "metadata": {},
   "source": [
    "This is nowhere near our benchmark (RMSE of $6 or so on this data), but it serves to demonstrate what TensorFlow code looks like.  Let's use this model for prediction."
   ]
  },
  {
   "cell_type": "code",
   "execution_count": 7,
   "metadata": {},
   "outputs": [
    {
     "name": "stdout",
     "output_type": "stream",
     "text": [
      "INFO:tensorflow:Using default config.\n",
      "INFO:tensorflow:Using config: {'_is_chief': True, '_global_id_in_cluster': 0, '_tf_random_seed': None, '_evaluation_master': '', '_keep_checkpoint_every_n_hours': 10000, '_session_config': None, '_log_step_count_steps': 100, '_cluster_spec': <tensorflow.python.training.server_lib.ClusterSpec object at 0x7f1679ebddd8>, '_task_type': 'worker', '_model_dir': 'taxi_trained', '_num_worker_replicas': 1, '_save_checkpoints_steps': None, '_save_checkpoints_secs': 600, '_save_summary_steps': 100, '_service': None, '_train_distribute': None, '_master': '', '_num_ps_replicas': 0, '_task_id': 0, '_keep_checkpoint_max': 5}\n",
      "INFO:tensorflow:Calling model_fn.\n",
      "INFO:tensorflow:Done calling model_fn.\n",
      "INFO:tensorflow:Graph was finalized.\n",
      "INFO:tensorflow:Restoring parameters from taxi_trained/model.ckpt-573\n",
      "INFO:tensorflow:Running local_init_op.\n",
      "INFO:tensorflow:Done running local_init_op.\n",
      "[11.237454, 11.112585, 11.113191, 11.224347, 11.110791]\n"
     ]
    }
   ],
   "source": [
    "import itertools\n",
    "# Read saved model and use it for prediction\n",
    "model = tf.estimator.LinearRegressor(\n",
    "      feature_columns = make_feature_cols(), model_dir = OUTDIR)\n",
    "preds_iter = model.predict(input_fn = make_input_fn(df_valid, 1))\n",
    "print([pred['predictions'][0] for pred in list(itertools.islice(preds_iter, 5))])"
   ]
  },
  {
   "cell_type": "markdown",
   "metadata": {},
   "source": [
    "This explains why the RMSE was so high -- the model essentially predicts the same amount for every trip.  Would a more complex model help? Let's try using a deep neural network.  The code to do this is quite straightforward as well."
   ]
  },
  {
   "cell_type": "markdown",
   "metadata": {},
   "source": [
    "<h3> Deep Neural Network regression </h3>"
   ]
  },
  {
   "cell_type": "code",
   "execution_count": 8,
   "metadata": {},
   "outputs": [
    {
     "name": "stdout",
     "output_type": "stream",
     "text": [
      "INFO:tensorflow:Using default config.\n",
      "INFO:tensorflow:Using config: {'_is_chief': True, '_global_id_in_cluster': 0, '_tf_random_seed': None, '_evaluation_master': '', '_keep_checkpoint_every_n_hours': 10000, '_session_config': None, '_log_step_count_steps': 100, '_cluster_spec': <tensorflow.python.training.server_lib.ClusterSpec object at 0x7f1678ace320>, '_task_type': 'worker', '_model_dir': 'taxi_trained', '_num_worker_replicas': 1, '_save_checkpoints_steps': None, '_save_checkpoints_secs': 600, '_save_summary_steps': 100, '_service': None, '_train_distribute': None, '_master': '', '_num_ps_replicas': 0, '_task_id': 0, '_keep_checkpoint_max': 5}\n",
      "INFO:tensorflow:Calling model_fn.\n",
      "INFO:tensorflow:Done calling model_fn.\n",
      "INFO:tensorflow:Create CheckpointSaverHook.\n",
      "INFO:tensorflow:Graph was finalized.\n",
      "INFO:tensorflow:Running local_init_op.\n",
      "INFO:tensorflow:Done running local_init_op.\n",
      "INFO:tensorflow:Saving checkpoints for 1 into taxi_trained/model.ckpt.\n",
      "INFO:tensorflow:step = 1, loss = 25680.709\n",
      "INFO:tensorflow:global_step/sec: 200.993\n",
      "INFO:tensorflow:step = 101, loss = 26910.545 (0.508 sec)\n",
      "INFO:tensorflow:global_step/sec: 255.692\n",
      "INFO:tensorflow:step = 201, loss = 20880.465 (0.385 sec)\n",
      "INFO:tensorflow:global_step/sec: 265.097\n",
      "INFO:tensorflow:step = 301, loss = 18585.693 (0.377 sec)\n",
      "INFO:tensorflow:global_step/sec: 233.788\n",
      "INFO:tensorflow:step = 401, loss = 21970.617 (0.428 sec)\n",
      "INFO:tensorflow:global_step/sec: 262.049\n",
      "INFO:tensorflow:step = 501, loss = 23488.621 (0.382 sec)\n",
      "INFO:tensorflow:global_step/sec: 228.609\n",
      "INFO:tensorflow:step = 601, loss = 26731.508 (0.437 sec)\n",
      "INFO:tensorflow:global_step/sec: 245.258\n",
      "INFO:tensorflow:step = 701, loss = 37421.41 (0.408 sec)\n",
      "INFO:tensorflow:global_step/sec: 260.817\n",
      "INFO:tensorflow:step = 801, loss = 9691.227 (0.383 sec)\n",
      "INFO:tensorflow:global_step/sec: 231.711\n",
      "INFO:tensorflow:step = 901, loss = 20025.535 (0.434 sec)\n",
      "INFO:tensorflow:global_step/sec: 266.932\n",
      "INFO:tensorflow:step = 1001, loss = 20262.988 (0.378 sec)\n",
      "INFO:tensorflow:global_step/sec: 207.209\n",
      "INFO:tensorflow:step = 1101, loss = 30584.09 (0.480 sec)\n",
      "INFO:tensorflow:global_step/sec: 240.024\n",
      "INFO:tensorflow:step = 1201, loss = 13193.727 (0.416 sec)\n",
      "INFO:tensorflow:global_step/sec: 224.147\n",
      "INFO:tensorflow:step = 1301, loss = 16452.777 (0.445 sec)\n",
      "INFO:tensorflow:global_step/sec: 242.734\n",
      "INFO:tensorflow:step = 1401, loss = 22460.531 (0.411 sec)\n",
      "INFO:tensorflow:global_step/sec: 261.248\n",
      "INFO:tensorflow:step = 1501, loss = 20073.855 (0.382 sec)\n",
      "INFO:tensorflow:global_step/sec: 215.065\n",
      "INFO:tensorflow:step = 1601, loss = 15937.401 (0.470 sec)\n",
      "INFO:tensorflow:global_step/sec: 244.647\n",
      "INFO:tensorflow:step = 1701, loss = 13132.0205 (0.405 sec)\n",
      "INFO:tensorflow:global_step/sec: 216.27\n",
      "INFO:tensorflow:step = 1801, loss = 27360.838 (0.462 sec)\n",
      "INFO:tensorflow:global_step/sec: 248.109\n",
      "INFO:tensorflow:step = 1901, loss = 46612.97 (0.403 sec)\n",
      "INFO:tensorflow:global_step/sec: 261.034\n",
      "INFO:tensorflow:step = 2001, loss = 16088.266 (0.388 sec)\n",
      "INFO:tensorflow:global_step/sec: 261.209\n",
      "INFO:tensorflow:step = 2101, loss = 16157.754 (0.380 sec)\n",
      "INFO:tensorflow:global_step/sec: 257.028\n",
      "INFO:tensorflow:step = 2201, loss = 20655.484 (0.388 sec)\n",
      "INFO:tensorflow:global_step/sec: 233.559\n",
      "INFO:tensorflow:step = 2301, loss = 10512.409 (0.432 sec)\n",
      "INFO:tensorflow:global_step/sec: 279.804\n",
      "INFO:tensorflow:step = 2401, loss = 12418.096 (0.355 sec)\n",
      "INFO:tensorflow:global_step/sec: 273.46\n",
      "INFO:tensorflow:step = 2501, loss = 14667.482 (0.365 sec)\n",
      "INFO:tensorflow:global_step/sec: 210.55\n",
      "INFO:tensorflow:step = 2601, loss = 15559.773 (0.477 sec)\n",
      "INFO:tensorflow:global_step/sec: 239.329\n",
      "INFO:tensorflow:step = 2701, loss = 11613.92 (0.414 sec)\n",
      "INFO:tensorflow:global_step/sec: 218.07\n",
      "INFO:tensorflow:step = 2801, loss = 16912.361 (0.458 sec)\n",
      "INFO:tensorflow:global_step/sec: 257.246\n",
      "INFO:tensorflow:step = 2901, loss = 12264.219 (0.389 sec)\n",
      "INFO:tensorflow:global_step/sec: 241.93\n",
      "INFO:tensorflow:step = 3001, loss = 17166.348 (0.414 sec)\n",
      "INFO:tensorflow:global_step/sec: 229.089\n",
      "INFO:tensorflow:step = 3101, loss = 21533.049 (0.436 sec)\n",
      "INFO:tensorflow:global_step/sec: 251.728\n",
      "INFO:tensorflow:step = 3201, loss = 14960.088 (0.398 sec)\n",
      "INFO:tensorflow:global_step/sec: 217.49\n",
      "INFO:tensorflow:step = 3301, loss = 11362.222 (0.460 sec)\n",
      "INFO:tensorflow:global_step/sec: 258.721\n",
      "INFO:tensorflow:step = 3401, loss = 21875.074 (0.386 sec)\n",
      "INFO:tensorflow:global_step/sec: 244.478\n",
      "INFO:tensorflow:step = 3501, loss = 7307.9956 (0.409 sec)\n",
      "INFO:tensorflow:global_step/sec: 257.015\n",
      "INFO:tensorflow:step = 3601, loss = 16503.195 (0.389 sec)\n",
      "INFO:tensorflow:global_step/sec: 230.931\n",
      "INFO:tensorflow:step = 3701, loss = 12148.75 (0.433 sec)\n",
      "INFO:tensorflow:global_step/sec: 201.36\n",
      "INFO:tensorflow:step = 3801, loss = 15027.531 (0.497 sec)\n",
      "INFO:tensorflow:global_step/sec: 261.476\n",
      "INFO:tensorflow:step = 3901, loss = 11670.942 (0.383 sec)\n",
      "INFO:tensorflow:global_step/sec: 226.345\n",
      "INFO:tensorflow:step = 4001, loss = 10239.324 (0.441 sec)\n",
      "INFO:tensorflow:global_step/sec: 277.062\n",
      "INFO:tensorflow:step = 4101, loss = 15909.195 (0.361 sec)\n",
      "INFO:tensorflow:global_step/sec: 263.345\n",
      "INFO:tensorflow:step = 4201, loss = 18632.71 (0.381 sec)\n",
      "INFO:tensorflow:global_step/sec: 253.006\n",
      "INFO:tensorflow:step = 4301, loss = 11229.158 (0.394 sec)\n",
      "INFO:tensorflow:global_step/sec: 277.077\n",
      "INFO:tensorflow:step = 4401, loss = 29710.852 (0.361 sec)\n",
      "INFO:tensorflow:global_step/sec: 249.169\n",
      "INFO:tensorflow:step = 4501, loss = 11592.266 (0.404 sec)\n",
      "INFO:tensorflow:global_step/sec: 296.028\n",
      "INFO:tensorflow:step = 4601, loss = 14746.064 (0.335 sec)\n",
      "INFO:tensorflow:global_step/sec: 296.81\n",
      "INFO:tensorflow:step = 4701, loss = 9460.779 (0.339 sec)\n",
      "INFO:tensorflow:global_step/sec: 249.977\n",
      "INFO:tensorflow:step = 4801, loss = 40405.05 (0.401 sec)\n",
      "INFO:tensorflow:global_step/sec: 245.783\n",
      "INFO:tensorflow:step = 4901, loss = 17355.916 (0.405 sec)\n",
      "INFO:tensorflow:global_step/sec: 239.753\n",
      "INFO:tensorflow:step = 5001, loss = 21880.168 (0.417 sec)\n",
      "INFO:tensorflow:global_step/sec: 280.107\n",
      "INFO:tensorflow:step = 5101, loss = 6639.5527 (0.356 sec)\n",
      "INFO:tensorflow:global_step/sec: 301.9\n",
      "INFO:tensorflow:step = 5201, loss = 21243.99 (0.334 sec)\n",
      "INFO:tensorflow:global_step/sec: 278.743\n",
      "INFO:tensorflow:step = 5301, loss = 15480.549 (0.359 sec)\n",
      "INFO:tensorflow:global_step/sec: 279.796\n",
      "INFO:tensorflow:step = 5401, loss = 33299.562 (0.356 sec)\n",
      "INFO:tensorflow:global_step/sec: 282.391\n",
      "INFO:tensorflow:step = 5501, loss = 21791.46 (0.355 sec)\n",
      "INFO:tensorflow:global_step/sec: 248.788\n",
      "INFO:tensorflow:step = 5601, loss = 14589.871 (0.400 sec)\n",
      "INFO:tensorflow:global_step/sec: 268.447\n",
      "INFO:tensorflow:step = 5701, loss = 14951.711 (0.373 sec)\n",
      "INFO:tensorflow:Saving checkpoints for 5729 into taxi_trained/model.ckpt.\n",
      "INFO:tensorflow:Loss for final step: 11641.255.\n",
      "INFO:tensorflow:Calling model_fn.\n",
      "INFO:tensorflow:Done calling model_fn.\n",
      "INFO:tensorflow:Starting evaluation at 2019-06-05-01:41:29\n",
      "INFO:tensorflow:Graph was finalized.\n",
      "INFO:tensorflow:Restoring parameters from taxi_trained/model.ckpt-5729\n",
      "INFO:tensorflow:Running local_init_op.\n",
      "INFO:tensorflow:Done running local_init_op.\n",
      "INFO:tensorflow:Finished evaluation at 2019-06-05-01:41:29\n",
      "INFO:tensorflow:Saving dict for global step 5729: average_loss = 118.652954, global_step = 5729, loss = 14338.754\n",
      "RMSE on validation dataset = 10.892793655395508\n"
     ]
    }
   ],
   "source": [
    "tf.logging.set_verbosity(tf.logging.INFO)\n",
    "shutil.rmtree(OUTDIR, ignore_errors = True) # start fresh each time\n",
    "model = tf.estimator.DNNRegressor(hidden_units = [32, 8, 2],\n",
    "      feature_columns = make_feature_cols(), model_dir = OUTDIR)\n",
    "model.train(input_fn = make_input_fn(df_train, num_epochs = 100));\n",
    "print_rmse(model, 'validation', df_valid)"
   ]
  },
  {
   "cell_type": "markdown",
   "metadata": {},
   "source": [
    "We are not beating our benchmark with either model ... what's up?  Well, we may be using TensorFlow for Machine Learning, but we are not yet using it well.  That's what the rest of this course is about!\n",
    "\n",
    "But, for the record, let's say we had to choose between the two models. We'd choose the one with the lower validation error. Finally, we'd measure the RMSE on the test data with this chosen model."
   ]
  },
  {
   "cell_type": "markdown",
   "metadata": {},
   "source": [
    "<h2> Benchmark dataset </h2>\n",
    "\n",
    "Let's do this on the benchmark dataset."
   ]
  },
  {
   "cell_type": "code",
   "execution_count": 9,
   "metadata": {},
   "outputs": [],
   "source": [
    "import datalab.bigquery as bq\n",
    "import numpy as np\n",
    "import pandas as pd\n",
    "\n",
    "def create_query(phase, EVERY_N):\n",
    "  \"\"\"\n",
    "  phase: 1 = train 2 = valid\n",
    "  \"\"\"\n",
    "  base_query = \"\"\"\n",
    "SELECT\n",
    "  (tolls_amount + fare_amount) AS fare_amount,\n",
    "  CONCAT(STRING(pickup_datetime), STRING(pickup_longitude), STRING(pickup_latitude), STRING(dropoff_latitude), STRING(dropoff_longitude)) AS key,\n",
    "  DAYOFWEEK(pickup_datetime)*1.0 AS dayofweek,\n",
    "  HOUR(pickup_datetime)*1.0 AS hourofday,\n",
    "  pickup_longitude AS pickuplon,\n",
    "  pickup_latitude AS pickuplat,\n",
    "  dropoff_longitude AS dropofflon,\n",
    "  dropoff_latitude AS dropofflat,\n",
    "  passenger_count*1.0 AS passengers,\n",
    "FROM\n",
    "  [nyc-tlc:yellow.trips]\n",
    "WHERE\n",
    "  trip_distance > 0\n",
    "  AND fare_amount >= 2.5\n",
    "  AND pickup_longitude > -78\n",
    "  AND pickup_longitude < -70\n",
    "  AND dropoff_longitude > -78\n",
    "  AND dropoff_longitude < -70\n",
    "  AND pickup_latitude > 37\n",
    "  AND pickup_latitude < 45\n",
    "  AND dropoff_latitude > 37\n",
    "  AND dropoff_latitude < 45\n",
    "  AND passenger_count > 0\n",
    "  \"\"\"\n",
    "\n",
    "  if EVERY_N == None:\n",
    "    if phase < 2:\n",
    "      # Training\n",
    "      query = \"{0} AND ABS(HASH(pickup_datetime)) % 4 < 2\".format(base_query)\n",
    "    else:\n",
    "      # Validation\n",
    "      query = \"{0} AND ABS(HASH(pickup_datetime)) % 4 == {1}\".format(base_query, phase)\n",
    "  else:\n",
    "    query = \"{0} AND ABS(HASH(pickup_datetime)) % {1} == {2}\".format(base_query, EVERY_N, phase)\n",
    "    \n",
    "  return query\n",
    "\n",
    "query = create_query(2, 100000)\n",
    "df = bq.Query(query).to_dataframe()"
   ]
  },
  {
   "cell_type": "code",
   "execution_count": 10,
   "metadata": {},
   "outputs": [
    {
     "name": "stdout",
     "output_type": "stream",
     "text": [
      "INFO:tensorflow:Calling model_fn.\n",
      "INFO:tensorflow:Done calling model_fn.\n",
      "INFO:tensorflow:Starting evaluation at 2019-06-05-01:43:30\n",
      "INFO:tensorflow:Graph was finalized.\n",
      "INFO:tensorflow:Restoring parameters from taxi_trained/model.ckpt-5729\n",
      "INFO:tensorflow:Running local_init_op.\n",
      "INFO:tensorflow:Done running local_init_op.\n",
      "INFO:tensorflow:Finished evaluation at 2019-06-05-01:43:33\n",
      "INFO:tensorflow:Saving dict for global step 5729: average_loss = 112.56745, global_step = 5729, loss = 14307.612\n",
      "RMSE on benchmark dataset = 10.609781265258789\n"
     ]
    }
   ],
   "source": [
    "print_rmse(model, 'benchmark', df)"
   ]
  },
  {
   "cell_type": "markdown",
   "metadata": {},
   "source": [
    "RMSE on benchmark dataset is <b>9.41</b> (your results will vary because of random seeds).\n",
    "\n",
    "This is not only way more than our original benchmark of 6.00, but it doesn't even beat our distance-based rule's RMSE of 8.02.\n",
    "\n",
    "Fear not -- you have learned how to write a TensorFlow model, but not to do all the things that you will have to do to your ML model performant. We will do this in the next chapters. In this chapter though, we will get our TensorFlow model ready for these improvements.\n",
    "\n",
    "In a software sense, the rest of the labs in this chapter will be about refactoring the code so that we can improve it."
   ]
  },
  {
   "cell_type": "markdown",
   "metadata": {},
   "source": [
    "Copyright 2017 Google Inc. Licensed under the Apache License, Version 2.0 (the \"License\"); you may not use this file except in compliance with the License. You may obtain a copy of the License at http://www.apache.org/licenses/LICENSE-2.0 Unless required by applicable law or agreed to in writing, software distributed under the License is distributed on an \"AS IS\" BASIS, WITHOUT WARRANTIES OR CONDITIONS OF ANY KIND, either express or implied. See the License for the specific language governing permissions and limitations under the License"
   ]
  }
 ],
 "metadata": {
  "kernelspec": {
   "display_name": "Python 3",
   "language": "python",
   "name": "python3"
  },
  "language_info": {
   "codemirror_mode": {
    "name": "ipython",
    "version": 3
   },
   "file_extension": ".py",
   "mimetype": "text/x-python",
   "name": "python",
   "nbconvert_exporter": "python",
   "pygments_lexer": "ipython3",
   "version": "3.5.6"
  }
 },
 "nbformat": 4,
 "nbformat_minor": 1
}
